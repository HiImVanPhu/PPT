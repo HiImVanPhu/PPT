{
 "cells": [
  {
   "cell_type": "markdown",
   "id": "cc37e82f",
   "metadata": {},
   "source": [
    "## Made by VanPhu Điện tử 11 - K63 RHUST\n",
    "https://www.facebook.com/phu.smallcityboiz"
   ]
  },
  {
   "cell_type": "markdown",
   "id": "fb2dd7df",
   "metadata": {},
   "source": [
    "Source Code này chủ yếu để giải (hầu hết) bài tập trong đề cương phương pháp tính.\n",
    "Code chỉ hỗ trợ việc tính toán, muốn hiểu hàm xuất ra những gì thì cần học và hiểu cách tính.\n",
    "Trong chương trình học còn thuật toán Gauss-Seidel và tính đạo hàm gần đúng mình chưa viết được do phần đó tự đọc :(.\n",
    "Mình còn gà nên code hơi cồng kềnh, mong các bạn thông cảm. Nếu có thắc mắc về cách sử dụng các hàm có thể ib cho mình vào link fb ở trên (mình không giảng lại lý thuyết)."
   ]
  },
  {
   "cell_type": "markdown",
   "id": "d23d3989",
   "metadata": {},
   "source": [
    "#### Note:\n",
    "(Nếu chưa biết về 1 số hàm trong thư viện numpy)"
   ]
  },
  {
   "cell_type": "markdown",
   "id": "e5c48916",
   "metadata": {},
   "source": [
    "    x**a = x^a (a phải là số nguyên)\n",
    "    np.sqrt(a) = căn2(a)\n",
    "    np.cbrt(a) = căn3(a)\n",
    "    np.ones((1, 3)) = [[1, 1, 1]] (ma trận 1x3)\n",
    "    np.zeros((2, 3)) = [[0, 0, 0], (ma trận 2x3)\n",
    "                        [0, 0, 0]]"
   ]
  },
  {
   "cell_type": "code",
   "execution_count": 3,
   "id": "7d49da04",
   "metadata": {},
   "outputs": [],
   "source": [
    "import numpy as np\n",
    "import pandas as pd\n",
    "import matplotlib.pyplot as plt\n",
    "from full_code import chiadoi, tieptuyen, daycung, lapdon, Gauss, Gauss_Jordan, lapJacobi, lapdon_matrix, giai_Gauss,\\\n",
    "giai_GaussJordan, chuan1, chuan2, chuanvocung, hoocner, hoocnenguoc, NoisuyLG, NoisuyNewtonLui, NoisuyNewtonTien, \\\n",
    "NoisuyNTcachdeuLui, NoisuyNTcachdeuTien, nhapX, nhapY, Binhphuongtoithieu, Tichphangandung_HT, Simpson, Euler_hien, Euler_an,\\\n",
    "Euler_caitien, RK_4"
   ]
  },
  {
   "cell_type": "markdown",
   "id": "b11cbbde",
   "metadata": {},
   "source": [
    "# Sai số"
   ]
  },
  {
   "cell_type": "code",
   "execution_count": 2,
   "id": "7115b73e",
   "metadata": {},
   "outputs": [
    {
     "data": {
      "text/plain": [
       "0.46511627906976744"
      ]
     },
     "execution_count": 2,
     "metadata": {},
     "output_type": "execute_result"
    }
   ],
   "source": [
    "def saisotuongdoi(gandung, saiso):\n",
    "    return saiso/gandung*100\n",
    "\n",
    "saisotuongdoi(2.15, 0.01)"
   ]
  },
  {
   "cell_type": "code",
   "execution_count": 174,
   "id": "24600220",
   "metadata": {},
   "outputs": [
    {
     "data": {
      "text/plain": [
       "48"
      ]
     },
     "execution_count": 174,
     "metadata": {},
     "output_type": "execute_result"
    }
   ],
   "source": [
    "def chusodangtin(a, saisotuongdoi=0, saisotuyetdoi=0):\n",
    "    if saisotuongdoi != 0:\n",
    "        saisotuyetdoi = a*saisotuongdoi\n",
    "    i = -20\n",
    "    while(saisotuyetdoi > 0.5*(10**i)):\n",
    "        i += 1\n",
    "    if i >= 0:\n",
    "        return int(a/(10**i))\n",
    "    else:\n",
    "        return int(a*(10**(-i)))\n",
    "\n",
    "chusodangtin(48361, saisotuongdoi=0.01)"
   ]
  },
  {
   "cell_type": "code",
   "execution_count": 4,
   "id": "3b75651e",
   "metadata": {},
   "outputs": [
    {
     "data": {
      "text/plain": [
       "8742"
      ]
     },
     "execution_count": 4,
     "metadata": {},
     "output_type": "execute_result"
    }
   ],
   "source": [
    "def ham(a):# tự viết\n",
    "    return 6.5*np.sqrt(a+1)\n",
    "def daoham(a):# tự viết\n",
    "    return 6.5/np.sqrt(a+1)\n",
    "def saisotuyetdoicuaham(a, delta_a):\n",
    "    return daoham(a)*delta_a\n",
    "def saisotuongdoicuaham(a, delta_a):\n",
    "    return saisotuyetdoicuaham(a, delta_a)/ham(a)\n",
    "\n",
    "chusodangtin(ham(0.809216), saisotuongdoicuaham(0.809216, 2.7*(10**-5)))"
   ]
  },
  {
   "cell_type": "code",
   "execution_count": 5,
   "id": "277859b7",
   "metadata": {},
   "outputs": [],
   "source": [
    "def ham(a, b):# tự viết\n",
    "    pass\n",
    "def daohama(a, b):# tự viết\n",
    "    pass\n",
    "def daohamb(a, b):# tự viết\n",
    "    pass\n",
    "def saisotuyetdoicuaham(a, delta_a, b, delta_b):\n",
    "    return daohama(a, b)*delta_a + daohamb(a, b)* delta_b\n",
    "def saisotuongdoicuaham(a, delta_a, b, delta_b):\n",
    "    return saisotuyetdoicuaham(a, delta_a, b, delta_b)/ham(a, b)\n",
    "\n",
    "# saisotuongdoicuaham(0.97, 0.005, 1.132, 0.0005)"
   ]
  },
  {
   "cell_type": "code",
   "execution_count": 6,
   "id": "180e33a3",
   "metadata": {},
   "outputs": [
    {
     "data": {
      "text/plain": [
       "0.1085"
      ]
     },
     "execution_count": 6,
     "metadata": {},
     "output_type": "execute_result"
    }
   ],
   "source": [
    "def ham(a, b, c):# tự viết\n",
    "    return 2*a + b - 0.5*c\n",
    "def daohama(a, b, c):# tự viết\n",
    "    return 2\n",
    "def daohamb(a, b, c):# tự viết\n",
    "    return 1\n",
    "def daohamc(a, b, c):# tự viết\n",
    "    return 0.5\n",
    "def saisotuyetdoicuaham(a, delta_a, b, delta_b, c, delta_c):\n",
    "    return np.abs(daohama(a, b, c))*delta_a + np.abs(daohamb(a, b, c))* delta_b + np.abs(daohamc(a, b, c))* delta_c\n",
    "def saisotuongdoicuaham(a, delta_a, b, delta_b, c, delta_c):\n",
    "    return saisotuyetdoicuaham(a, delta_a, b, delta_b, c, delta_c)/ham(a, b, c)\n",
    "\n",
    "saisotuyetdoicuaham(0, 0.012, 0, 0.023, 0, 0.123)"
   ]
  },
  {
   "cell_type": "markdown",
   "id": "5fb9e955",
   "metadata": {},
   "source": [
    "# Chia đôi"
   ]
  },
  {
   "cell_type": "code",
   "execution_count": 2,
   "id": "b6b06e90",
   "metadata": {
    "scrolled": true
   },
   "outputs": [
    {
     "data": {
      "image/png": "[encoded data removed]",
      "text/plain": [
       "<Figure size 360x360 with 1 Axes>"
      ]
     },
     "metadata": {
      "needs_background": "light"
     },
     "output_type": "display_data"
    }
   ],
   "source": [
    "x = np.linspace(-1,1, 100000)\n",
    "plt.figure(figsize=(5,5))\n",
    "y =  x**3 - 7*np.sin(x)\n",
    "z = 0*x\n",
    "plt.plot(x,y)\n",
    "plt.plot(x,z, color='black')\n",
    "# plt.plot(x,x)\n",
    "plt.grid()"
   ]
  },
  {
   "cell_type": "code",
   "execution_count": 11,
   "id": "2e4f5e81",
   "metadata": {
    "collapsed": true
   },
   "outputs": [
    {
     "name": "stdout",
     "output_type": "stream",
     "text": [
      "n = 5 \n",
      "\n",
      "a: 3.3, b: 3.4\n",
      "x: 3.3499999999999996\n",
      "f(x) = 0.36300624999998377\n",
      "delta x: 0.04999999999999982\n",
      "\n",
      "a: 3.3, b: 3.3499999999999996\n",
      "x: 3.3249999999999997\n",
      "f(x) = -0.2129683593749938\n",
      "delta x: 0.02499999999999991\n",
      "\n",
      "a: 3.3249999999999997, b: 3.3499999999999996\n",
      "x: 3.3374999999999995\n",
      "f(x) = 0.07083400878905621\n",
      "delta x: 0.012499999999999734\n",
      "\n",
      "a: 3.3249999999999997, b: 3.3374999999999995\n",
      "x: 3.33125\n",
      "f(x) = -0.07210656585693442\n",
      "delta x: 0.006249999999999645\n",
      "\n",
      "a: 3.33125, b: 3.3374999999999995\n",
      "x: 3.3343749999999996\n",
      "f(x) = -0.0008969801902765084\n",
      "delta x: 0.0031249999999998224\n",
      "\n"
     ]
    }
   ],
   "source": [
    "def f(x): # tự viết\n",
    "    return x**4 - x**3*4 + 8*x - 2\n",
    "\n",
    "a = 3.3\n",
    "b = 3.4\n",
    "n = 0\n",
    "epxilon = 0.005\n",
    "# Nếu bài toán cho trước n thì để epxilon = 0 và ngược lại\n",
    "\n",
    "chiadoi(f, a, b, n=n, epxilon=epxilon)"
   ]
  },
  {
   "cell_type": "markdown",
   "id": "2ca7a80d",
   "metadata": {},
   "source": [
    "# Dây cung"
   ]
  },
  {
   "cell_type": "code",
   "execution_count": 13,
   "id": "db8fdefd",
   "metadata": {},
   "outputs": [
    {
     "data": {
      "image/png": "[encoded data removed]",
      "text/plain": [
       "<Figure size 360x360 with 1 Axes>"
      ]
     },
     "metadata": {
      "needs_background": "light"
     },
     "output_type": "display_data"
    }
   ],
   "source": [
    "x = np.linspace(-1.1,-1, 100000)\n",
    "plt.figure(figsize=(5,5))\n",
    "y = x**10-2\n",
    "z = 0*x\n",
    "plt.plot(x,y)\n",
    "plt.plot(x,z, color='black')\n",
    "# plt.plot(x,x)\n",
    "plt.grid()"
   ]
  },
  {
   "cell_type": "code",
   "execution_count": 4,
   "id": "0ff55e8c",
   "metadata": {
    "collapsed": true
   },
   "outputs": [
    {
     "name": "stdout",
     "output_type": "stream",
     "text": [
      "f(a) = -1,  f(b) = 6\n",
      "m1 = 1\n",
      "M1 = 14\n",
      "x0: 0\n",
      "d: -1\n",
      "\n",
      "x: -0.8571428571428571\n",
      "xấp xỉ liên tiếp: 11.142857142857142\n",
      "delta_x: 0.8396501457725956\n",
      "\n",
      "x: -0.9223454833597464\n",
      "xấp xỉ liên tiếp: 0.8476341408195612\n",
      "delta_x: 0.0393897154529288\n",
      "\n",
      "x: -0.9252883538428947\n",
      "xấp xỉ liên tiếp: 0.03825731628092699\n",
      "delta_x: 0.0017254333406508948\n",
      "\n",
      "epxilon0: 0.0\n"
     ]
    }
   ],
   "source": [
    "def f(x): # tự viết\n",
    "    return x**3-x**2*5+x+6\n",
    "def daoham1(x): # tự viết\n",
    "    return x**2*3-10*x+1\n",
    "\n",
    "a = -1\n",
    "b = 0\n",
    "n = 3\n",
    "epxilon = 0\n",
    "mode = 'delta_x'\n",
    "\n",
    "# Với bài toán cho sẵn epxilon cần truyền vào tham số mode:\n",
    "# mode = 'delta_x': tính sai số theo công thức sai số mục tiêu\n",
    "# mode = 'err': tính sai số theo xấp xỉ liên tiếp\n",
    "\n",
    "daycung(f, daoham1, a, b, n=n, epxilon=epxilon, mode=mode)"
   ]
  },
  {
   "cell_type": "markdown",
   "id": "e3f8fd60",
   "metadata": {},
   "source": [
    "# Tiếp tuyến"
   ]
  },
  {
   "cell_type": "code",
   "execution_count": 11,
   "id": "fecf92cb",
   "metadata": {
    "scrolled": true
   },
   "outputs": [
    {
     "data": {
      "image/png": "[encoded data removed]",
      "text/plain": [
       "<Figure size 360x360 with 1 Axes>"
      ]
     },
     "metadata": {
      "needs_background": "light"
     },
     "output_type": "display_data"
    }
   ],
   "source": [
    "x = np.linspace(-1,0, 100000)\n",
    "plt.figure(figsize=(5,5))\n",
    "y = x**3 - 4*np.log(x**2+1)+1\n",
    "z = 0*x\n",
    "plt.plot(x,y)\n",
    "plt.plot(x,z, color='black')\n",
    "plt.grid()"
   ]
  },
  {
   "cell_type": "code",
   "execution_count": 2,
   "id": "c6b100ef",
   "metadata": {
    "collapsed": true
   },
   "outputs": [
    {
     "name": "stdout",
     "output_type": "stream",
     "text": [
      "f(a) = -42,  f(b) = 21\n",
      "m1 = 6\n",
      "M2 = 480\n",
      "x0: 2\n",
      "\n",
      "x: 1.890625\n",
      "xấp xỉ liên tiếp: 0.478515625\n",
      "delta x: 0.44502394805749645\n",
      "\n",
      "x: 1.8722021676231682\n",
      "xấp xỉ liên tiếp: 0.013576030111393746\n",
      "delta x: 0.01070129909423064\n",
      "\n",
      "x: 1.8717369321901567\n",
      "xấp xỉ liên tiếp: 8.657760325174736e-06\n",
      "delta x: 6.645882522822906e-06\n",
      "\n",
      "n = 3\n",
      "epxilon0: 0.015811388300841896\n"
     ]
    }
   ],
   "source": [
    "def f(x): # tự viết\n",
    "    return x**6-43\n",
    "def daoham1(x): # tự viết\n",
    "    return x**5*6\n",
    "def daoham2(x): # tự viết\n",
    "    return x**4*30\n",
    "\n",
    "a = 1\n",
    "b = 2\n",
    "n = 0\n",
    "epxilon = 1/100\n",
    "mode = 'err'\n",
    "\n",
    "# Tương tự dây cung\n",
    "\n",
    "tieptuyen(f, daoham1, daoham2, a, b, n=n, epxilon=epxilon, mode=mode)"
   ]
  },
  {
   "cell_type": "markdown",
   "id": "dcc4928d",
   "metadata": {},
   "source": [
    "# Lặp đơn"
   ]
  },
  {
   "cell_type": "code",
   "execution_count": 14,
   "id": "912f1880",
   "metadata": {},
   "outputs": [
    {
     "data": {
      "image/png": "[encoded data removed]",
      "text/plain": [
       "<Figure size 360x360 with 1 Axes>"
      ]
     },
     "metadata": {
      "needs_background": "light"
     },
     "output_type": "display_data"
    }
   ],
   "source": [
    "x = np.linspace(0,0.5, 100000)\n",
    "plt.figure(figsize=(5,5))\n",
    "y =  x**4 - x**3*4+8*x-2\n",
    "z = 0*x\n",
    "plt.plot(x,y)\n",
    "plt.plot(x,z, color='black')\n",
    "# plt.plot(x,x)\n",
    "plt.grid()"
   ]
  },
  {
   "cell_type": "code",
   "execution_count": 15,
   "id": "035510ee",
   "metadata": {},
   "outputs": [
    {
     "data": {
      "image/png": "[encoded data removed]",
      "text/plain": [
       "<Figure size 360x360 with 1 Axes>"
      ]
     },
     "metadata": {
      "needs_background": "light"
     },
     "output_type": "display_data"
    }
   ],
   "source": [
    "x = np.linspace(0,2, 100000)\n",
    "plt.figure(figsize=(5,5))\n",
    "y = (7-x**3*2)/18\n",
    "plt.plot(x,y)\n",
    "plt.plot(x,x)\n",
    "plt.grid()"
   ]
  },
  {
   "cell_type": "code",
   "execution_count": 5,
   "id": "56c7d78e",
   "metadata": {
    "collapsed": true
   },
   "outputs": [
    {
     "name": "stdout",
     "output_type": "stream",
     "text": [
      "q = 0.17166950848021068\n",
      "\n",
      "x: 1.8324429572510013\n",
      "xấp xỉ liên tiếp: 0.006723725109654263\n",
      "\n",
      "x: 1.8525557650146345\n",
      "xấp xỉ liên tiếp: 0.004168331189408343\n",
      "\n",
      "x: 1.865135270789608\n",
      "xấp xỉ liên tiếp: 0.002607072413031041\n",
      "\n",
      "x: 1.873046474766938\n",
      "xấp xỉ liên tiếp: 0.0016395780575252053\n",
      "\n",
      "x: 1.87803897993635\n",
      "xấp xỉ liên tiếp: 0.0010346847270409666\n",
      "\n",
      "x: 1.8811964350395485\n",
      "xấp xỉ liên tiếp: 0.0006543750002730353\n",
      "\n",
      "x: 1.8831960725862276\n",
      "xấp xỉ liên tiếp: 0.000414420087502927\n",
      "\n",
      "x: 1.8844635556569869\n",
      "xấp xỉ liên tiếp: 0.00026268282767789305\n",
      "\n",
      "x: 1.8852673996227378\n",
      "xấp xỉ liên tiếp: 0.000166594734720027\n",
      "\n",
      "x: 1.8857773790796322\n",
      "xấp xỉ liên tiếp: 0.00010569201978720854\n",
      "\n",
      "x: 1.8861009947928218\n",
      "xấp xỉ liên tiếp: 6.706858070358415e-05\n",
      "\n",
      "x: 1.8863063791791503\n",
      "xấp xỉ liên tiếp: 4.256542166622688e-05\n",
      "\n",
      "n = 12\n",
      "epxilon0: 0.00024125731437486925\n"
     ]
    }
   ],
   "source": [
    "def f(x): # tự viết\n",
    "    return x**3-3*x-4\n",
    "def phi(x): # tự viết\n",
    "    return 1.4**x\n",
    "def daohamphi(x): # tự viết\n",
    "    return np.log(1.4)*1.4**x\n",
    "\n",
    "#q = max(phi')\n",
    "\n",
    "x0 = 1.8\n",
    "n = 0\n",
    "epxilon = 0.00005\n",
    "a = -2.2\n",
    "b = -2\n",
    "\n",
    "x = np.linspace(a, b, 1000000)\n",
    "q = np.max(daohamphi(x)) \n",
    "lapdon(f, phi, x0, q, n=n, epxilon=epxilon)"
   ]
  },
  {
   "cell_type": "markdown",
   "id": "9fd69625",
   "metadata": {},
   "source": [
    "# Gauss"
   ]
  },
  {
   "cell_type": "code",
   "execution_count": 2,
   "id": "4380da9e",
   "metadata": {
    "collapsed": true
   },
   "outputs": [
    {
     "name": "stdout",
     "output_type": "stream",
     "text": [
      "[[ 1.  1. -3.  3.  6.]\n",
      " [ 1. -2. -1.  0.  2.]\n",
      " [ 0.  1.  1.  2. 12.]\n",
      " [ 2. -3.  2.  0.  6.]] \n",
      "\n",
      "[[ 1.  1. -3.  3.  6.]\n",
      " [ 0. -3.  2. -3. -4.]\n",
      " [ 0.  1.  1.  2. 12.]\n",
      " [ 0. -5.  8. -6. -6.]] \n",
      "\n",
      "[[ 1.          1.         -3.          3.          6.        ]\n",
      " [ 0.         -3.          2.         -3.         -4.        ]\n",
      " [ 0.          0.          1.66666667  1.         10.66666667]\n",
      " [ 0.          0.          4.66666667 -1.          0.66666667]] \n",
      "\n",
      "[[  1.           1.          -3.           3.           6.        ]\n",
      " [  0.          -3.           2.          -3.          -4.        ]\n",
      " [  0.           0.           1.66666667   1.          10.66666667]\n",
      " [  0.           0.           0.          -3.8        -29.2       ]] \n",
      "\n",
      "[[  1.           1.          -3.           3.           6.        ]\n",
      " [  0.          -3.           2.          -3.          -4.        ]\n",
      " [  0.           0.           1.66666667   1.          10.66666667]\n",
      " [  0.           0.           0.          -3.8        -29.2       ]] \n",
      "\n"
     ]
    },
    {
     "data": {
      "text/plain": [
       "array([[-6.52631579],\n",
       "       [-5.15789474],\n",
       "       [ 1.78947368],\n",
       "       [ 7.68421053]])"
      ]
     },
     "execution_count": 2,
     "metadata": {},
     "output_type": "execute_result"
    }
   ],
   "source": [
    "a = np.array([[1,1,-3,3,6],\n",
    "              [1,-2,-1,0,2],\n",
    "              [0,1,1,2,12],\n",
    "              [2,-3,2,0,6]])\n",
    "b = Gauss(a.astype(np.float))\n",
    "\n",
    "giai_Gauss(b)"
   ]
  },
  {
   "cell_type": "markdown",
   "id": "c6a8bf4f",
   "metadata": {},
   "source": [
    "# Gauss - Jordan"
   ]
  },
  {
   "cell_type": "code",
   "execution_count": 4,
   "id": "07df71b4",
   "metadata": {
    "collapsed": true
   },
   "outputs": [
    {
     "name": "stdout",
     "output_type": "stream",
     "text": [
      "[[ 1.  1. -3.  3.  6.]\n",
      " [ 1. -2. -1.  0.  2.]\n",
      " [ 0.  1.  1.  2. 12.]\n",
      " [ 2. -3.  2.  0.  6.]] \n",
      "\n",
      "đã khử hàng:  []\n",
      "chọn phần tử khử: \n",
      "hàng: 1\n",
      "cột: 1\n",
      "[[ 1.  1. -3.  3.  6.]\n",
      " [ 0. -3.  2. -3. -4.]\n",
      " [ 0.  1.  1.  2. 12.]\n",
      " [ 0. -5.  8. -6. -6.]] \n",
      "\n",
      "khử tiếp không (y/n)?1\n",
      "đã khử hàng:  [1]\n",
      "chọn phần tử khử: \n",
      "hàng: 3\n",
      "cột: 2\n",
      "[[ 1.  0. -4.  1. -6.]\n",
      " [ 0.  0.  5.  3. 32.]\n",
      " [ 0.  1.  1.  2. 12.]\n",
      " [ 0.  0. 13.  4. 54.]] \n",
      "\n",
      "khử tiếp không (y/n)?1\n",
      "đã khử hàng:  [1, 3]\n",
      "chọn phần tử khử: \n",
      "hàng: 4\n",
      "cột: 3\n",
      "[[ 1.          0.          0.          2.23076923 10.61538462]\n",
      " [ 0.          0.          0.          1.46153846 11.23076923]\n",
      " [ 0.          1.          0.          1.69230769  7.84615385]\n",
      " [ 0.          0.         13.          4.         54.        ]] \n",
      "\n",
      "[[ 1.          0.          0.          2.23076923 10.61538462]\n",
      " [ 0.          0.          0.          1.46153846 11.23076923]\n",
      " [ 0.          1.          0.          1.69230769  7.84615385]\n",
      " [ 0.          0.          1.          0.30769231  4.15384615]]\n"
     ]
    },
    {
     "data": {
      "text/plain": [
       "array([[-6.52631579],\n",
       "       [-5.15789474],\n",
       "       [ 1.78947368],\n",
       "       [ 7.68421053]])"
      ]
     },
     "execution_count": 4,
     "metadata": {},
     "output_type": "execute_result"
    }
   ],
   "source": [
    "a = np.array([[1,1,-3,3,6],\n",
    "              [1,-2,-1,0,2],\n",
    "              [0,1,1,2,12],\n",
    "              [2,-3,2,0,6]])\n",
    "matrix = Gauss_Jordan(a.astype(np.float))\n",
    "giai_GaussJordan(matrix)"
   ]
  },
  {
   "cell_type": "markdown",
   "id": "455fd110",
   "metadata": {},
   "source": [
    "# Chuẩn của ma trận"
   ]
  },
  {
   "cell_type": "code",
   "execution_count": 6,
   "id": "ecc06648",
   "metadata": {},
   "outputs": [
    {
     "name": "stdout",
     "output_type": "stream",
     "text": [
      "chuẩn hàng: 23\n",
      "chuẩn cột: 35\n",
      "chuẩn Euclide: 24.460787211269043\n"
     ]
    }
   ],
   "source": [
    "a = np.array([[10,2,3],\n",
    "              [3,1,1],\n",
    "              [22,1,0]])\n",
    "print(f'chuẩn hàng: {chuanvocung(a)}')\n",
    "print(f'chuẩn cột: {chuan1(a)}')\n",
    "print(f'chuẩn Euclide: {chuan2(a)}')"
   ]
  },
  {
   "cell_type": "markdown",
   "id": "ece220ed",
   "metadata": {},
   "source": [
    "# Lặp đơn"
   ]
  },
  {
   "cell_type": "code",
   "execution_count": 6,
   "id": "7444c47b",
   "metadata": {},
   "outputs": [
    {
     "name": "stdout",
     "output_type": "stream",
     "text": [
      "B = \n",
      "[[-0.3   0.2   0.15]\n",
      " [-0.17  0.21  0.12]\n",
      " [ 0.22 -0.11  0.08]]\n",
      "\n",
      "d = \n",
      "[ 2.5 -3.7  4.2]\n",
      "\n",
      "q = 0.65\n",
      "\n",
      "X =\n",
      " [[ 2.55]\n",
      " [-3.54]\n",
      " [ 4.39]]\n",
      "xấp xỉ liên tiếp: 8.431428571428572\n",
      "\n",
      "X =\n",
      " [[ 1.6855]\n",
      " [-4.3501]\n",
      " [ 5.5016]]\n",
      "xấp xỉ liên tiếp: 2.0643999999999987\n",
      "\n",
      "X =\n",
      " [[ 1.94957 ]\n",
      " [-4.239864]\n",
      " [ 5.489449]]\n",
      "xấp xỉ liên tiếp: 0.49041571428571357\n",
      "\n",
      "X =\n",
      " [[ 1.89057355]\n",
      " [-4.26306446]\n",
      " [ 5.53444636]]\n",
      "xấp xỉ liên tiếp: 0.10956483571428527\n",
      "\n",
      "X =\n",
      " [[ 1.910382  ]\n",
      " [-4.25250748]\n",
      " [ 5.52761898]]\n",
      "xấp xỉ liên tiếp: 0.03678711585714277\n",
      "\n",
      "X =\n",
      " [[ 1.90552675]\n",
      " [-4.25447723]\n",
      " [ 5.53026938]]\n",
      "xấp xỉ liên tiếp: 0.009016882494285847\n",
      "\n",
      "X =\n",
      " [[ 1.90698693]\n",
      " [-4.25374744]\n",
      " [ 5.52962993]]\n",
      "xấp xỉ liên tiếp: 0.0027117670959786455\n",
      "\n",
      "n = 7\n"
     ]
    }
   ],
   "source": [
    "#B, d là ma trận trong công thức lặp\n",
    "\n",
    "B = np.array([[-0.3,0.2,0.15],\n",
    "              [-0.17,0.21,0.12],\n",
    "              [0.22,-0.11,0.08]])\n",
    "\n",
    "d = np.array([2.5,-3.7,4.2])\n",
    "\n",
    "X0 = np.array([1,1,1])\n",
    "n = 0\n",
    "epxilon = 0.005\n",
    "\n",
    "# Nếu B, d là ma trận hệ số của hệ phương trình thì bỏ comment (bôi đen và ctrl + /) đoạn code dưới đây:\n",
    "\n",
    "# for i in range(len(B)):\n",
    "#     d[i] = d[i] / B[i,i]\n",
    "#     B[i] = B[i] / B[i,i]\n",
    "#     B[i] *= -1\n",
    "#     B[i, i] = 0 \n",
    "\n",
    "print(f'B = \\n{B}\\n')\n",
    "print(f'd = \\n{d}\\n')\n",
    "\n",
    "q = chuanvocung(B)\n",
    "\n",
    "lapdon_matrix(B.astype(np.float), d.astype(np.float), X0, q, n=n, epxilon=epxilon)"
   ]
  },
  {
   "cell_type": "markdown",
   "id": "634ebd1e",
   "metadata": {},
   "source": [
    "# Lặp Jacobi"
   ]
  },
  {
   "cell_type": "code",
   "execution_count": 4,
   "id": "1a9c871e",
   "metadata": {},
   "outputs": [
    {
     "name": "stdout",
     "output_type": "stream",
     "text": [
      "chéo trội cột\n",
      "B = \n",
      "[[ 0.         -0.36492891  0.77251185 -0.08965245]\n",
      " [-0.22628135  0.          0.84623773 -0.18974918]\n",
      " [ 0.07859532 -0.03572514  0.          0.23943448]\n",
      " [ 0.19287556 -0.073588   -0.06069838  0.        ]]\n",
      "d = \n",
      "[[ 4.94944708]\n",
      " [13.28080698]\n",
      " [-3.3396169 ]\n",
      " [-2.30527303]]\n",
      "\n",
      "lamda: 3.5866957470010905\n",
      "q = 0.8031624863685933\n",
      "\n",
      "X =\n",
      " [[ 5.36018957]\n",
      " [13.40812432]\n",
      " [-2.76071754]\n",
      " [-2.11345207]]\n",
      "xấp xỉ liên tiếp: 360.64055054245057\n",
      "\n",
      "X =\n",
      " [[-1.88677597]\n",
      " [10.13269849]\n",
      " [-3.90337158]\n",
      " [-2.09052945]]\n",
      "xấp xỉ liên tiếp: 171.05237078878866\n",
      "\n",
      "X =\n",
      " [[-1.57624724]\n",
      " [10.80124514]\n",
      " [-4.35044561]\n",
      " [-3.17790267]]\n",
      "xấp xỉ liên tiếp: 36.78517996114052\n",
      "\n"
     ]
    }
   ],
   "source": [
    "# B là ma trận hệ số của hệ phương trình\n",
    "\n",
    "B = np.array([[25.32, 9.24, -19.56, 2.27],\n",
    "              [4.15, 18.34, -15.52, 3.48],\n",
    "              [5.17, -2.35, -65.78, 15.75],\n",
    "              [-8.23, 3.14, 2.59, 42.67]])\n",
    "d = np.array([125.32, 243.57, 219.68, -98.366])\n",
    "X0 = np.array([1.5, 0.5, 1, 2])\n",
    "n = 3\n",
    "epxilon = 0\n",
    "\n",
    "lapJacobi(B.astype(np.float), d.astype(np.float), X0, n=n, epxilon=epxilon)"
   ]
  },
  {
   "cell_type": "markdown",
   "id": "e598b0f4",
   "metadata": {},
   "source": [
    "# Hoocner"
   ]
  },
  {
   "cell_type": "code",
   "execution_count": 2,
   "id": "f1cc2243",
   "metadata": {
    "scrolled": false
   },
   "outputs": [
    {
     "data": {
      "image/png": "[encoded data removed]",
      "text/plain": [
       "<Figure size 720x360 with 1 Axes>"
      ]
     },
     "metadata": {
      "needs_background": "light"
     },
     "output_type": "display_data"
    }
   ],
   "source": [
    "x = np.linspace(-1,1, 100000)\n",
    "plt.figure(figsize=(10,5))\n",
    "y =  1/(25*(x**2) +1)\n",
    "z = 0*x\n",
    "plt.plot(x,y)\n",
    "plt.plot(x,z, color='black')\n",
    "\n",
    "# plt.plot(x,x)\n",
    "plt.grid()"
   ]
  },
  {
   "cell_type": "markdown",
   "id": "e3c888db",
   "metadata": {},
   "source": [
    "### Sơ đồ chia"
   ]
  },
  {
   "cell_type": "code",
   "execution_count": 4,
   "id": "514427c3",
   "metadata": {},
   "outputs": [
    {
     "data": {
      "text/html": [
       "<div>\n",
       "<style scoped>\n",
       "    .dataframe tbody tr th:only-of-type {\n",
       "        vertical-align: middle;\n",
       "    }\n",
       "\n",
       "    .dataframe tbody tr th {\n",
       "        vertical-align: top;\n",
       "    }\n",
       "\n",
       "    .dataframe thead th {\n",
       "        text-align: right;\n",
       "    }\n",
       "</style>\n",
       "<table border=\"1\" class=\"dataframe\">\n",
       "  <thead>\n",
       "    <tr style=\"text-align: right;\">\n",
       "      <th></th>\n",
       "      <th>6</th>\n",
       "      <th>5</th>\n",
       "      <th>4</th>\n",
       "      <th>3</th>\n",
       "      <th>2</th>\n",
       "      <th>1</th>\n",
       "      <th>0</th>\n",
       "    </tr>\n",
       "  </thead>\n",
       "  <tbody>\n",
       "    <tr>\n",
       "      <th>0.0</th>\n",
       "      <td>7.0</td>\n",
       "      <td>-8.0</td>\n",
       "      <td>0.0</td>\n",
       "      <td>7.0</td>\n",
       "      <td>18.0</td>\n",
       "      <td>-9.0</td>\n",
       "      <td>-20.0</td>\n",
       "    </tr>\n",
       "    <tr>\n",
       "      <th>2.0</th>\n",
       "      <td>7.0</td>\n",
       "      <td>6.0</td>\n",
       "      <td>12.0</td>\n",
       "      <td>31.0</td>\n",
       "      <td>80.0</td>\n",
       "      <td>151.0</td>\n",
       "      <td>282.0</td>\n",
       "    </tr>\n",
       "  </tbody>\n",
       "</table>\n",
       "</div>"
      ],
      "text/plain": [
       "       6    5     4     3     2      1      0\n",
       "0.0  7.0 -8.0   0.0   7.0  18.0   -9.0  -20.0\n",
       "2.0  7.0  6.0  12.0  31.0  80.0  151.0  282.0"
      ]
     },
     "execution_count": 4,
     "metadata": {},
     "output_type": "execute_result"
    }
   ],
   "source": [
    "# chia đa thức (x^6 - 8x^5 + 7x^3 +18x^2 - 9x - 20) cho (x - 2)\n",
    "\n",
    "a = np.array([[7,-8,0,7,18,-9,-20]])\n",
    "b = np.array([[2]])\n",
    "\n",
    "pd.DataFrame(hoocner(a,b)[:,1:], index=hoocner(a,b)[:,0], columns=[i for i in range(len(a[0])-1,-1,-1)])"
   ]
  },
  {
   "cell_type": "markdown",
   "id": "8112f947",
   "metadata": {},
   "source": [
    "### Sơ đồ nhân"
   ]
  },
  {
   "cell_type": "code",
   "execution_count": 178,
   "id": "61d2f187",
   "metadata": {
    "scrolled": true
   },
   "outputs": [
    {
     "data": {
      "text/html": [
       "<div>\n",
       "<style scoped>\n",
       "    .dataframe tbody tr th:only-of-type {\n",
       "        vertical-align: middle;\n",
       "    }\n",
       "\n",
       "    .dataframe tbody tr th {\n",
       "        vertical-align: top;\n",
       "    }\n",
       "\n",
       "    .dataframe thead th {\n",
       "        text-align: right;\n",
       "    }\n",
       "</style>\n",
       "<table border=\"1\" class=\"dataframe\">\n",
       "  <thead>\n",
       "    <tr style=\"text-align: right;\">\n",
       "      <th></th>\n",
       "      <th>4</th>\n",
       "      <th>3</th>\n",
       "      <th>2</th>\n",
       "      <th>1</th>\n",
       "      <th>0</th>\n",
       "    </tr>\n",
       "  </thead>\n",
       "  <tbody>\n",
       "    <tr>\n",
       "      <th>1</th>\n",
       "      <td>0.0</td>\n",
       "      <td>0.0</td>\n",
       "      <td>0.0</td>\n",
       "      <td>1.0</td>\n",
       "      <td>-1.0</td>\n",
       "    </tr>\n",
       "    <tr>\n",
       "      <th>3</th>\n",
       "      <td>0.0</td>\n",
       "      <td>0.0</td>\n",
       "      <td>1.0</td>\n",
       "      <td>-4.0</td>\n",
       "      <td>3.0</td>\n",
       "    </tr>\n",
       "    <tr>\n",
       "      <th>5</th>\n",
       "      <td>0.0</td>\n",
       "      <td>1.0</td>\n",
       "      <td>-9.0</td>\n",
       "      <td>23.0</td>\n",
       "      <td>-15.0</td>\n",
       "    </tr>\n",
       "    <tr>\n",
       "      <th>7</th>\n",
       "      <td>1.0</td>\n",
       "      <td>-16.0</td>\n",
       "      <td>86.0</td>\n",
       "      <td>-176.0</td>\n",
       "      <td>105.0</td>\n",
       "    </tr>\n",
       "  </tbody>\n",
       "</table>\n",
       "</div>"
      ],
      "text/plain": [
       "     4     3     2      1      0\n",
       "1  0.0   0.0   0.0    1.0   -1.0\n",
       "3  0.0   0.0   1.0   -4.0    3.0\n",
       "5  0.0   1.0  -9.0   23.0  -15.0\n",
       "7  1.0 -16.0  86.0 -176.0  105.0"
      ]
     },
     "execution_count": 178,
     "metadata": {},
     "output_type": "execute_result"
    }
   ],
   "source": [
    "# nhân (x - 1)(x - 3)(x - 5)(x - 7)\n",
    "\n",
    "a = np.array([[1,3,5,7]])\n",
    "\n",
    "pd.DataFrame(hoocnenguoc(a), index=a[0], columns=[i for i in range(len(a[0]),-1,-1)])"
   ]
  },
  {
   "cell_type": "markdown",
   "id": "d59837cd",
   "metadata": {},
   "source": [
    "# Nội suy Lagrange"
   ]
  },
  {
   "cell_type": "code",
   "execution_count": 8,
   "id": "f755438e",
   "metadata": {
    "collapsed": true
   },
   "outputs": [
    {
     "name": "stdout",
     "output_type": "stream",
     "text": [
      "\n",
      "Sơ đồ nhân:\n",
      "       8      7        6          5            4             3             2  \\\n",
      "20  0.0    0.0      0.0        0.0          0.0  0.000000e+00  0.000000e+00   \n",
      "30  0.0    0.0      0.0        0.0          0.0  0.000000e+00  1.000000e+00   \n",
      "40  0.0    0.0      0.0        0.0          0.0  1.000000e+00 -9.000000e+01   \n",
      "50  0.0    0.0      0.0        0.0          1.0 -1.400000e+02  7.100000e+03   \n",
      "60  0.0    0.0      0.0        1.0       -200.0  1.550000e+04 -5.800000e+05   \n",
      "70  0.0    0.0      1.0     -270.0      29500.0 -1.665000e+06  5.104000e+07   \n",
      "80  0.0    1.0   -350.0    51100.0   -4025000.0  1.842400e+08 -4.886000e+09   \n",
      "90  1.0 -440.0  82600.0 -8624000.0  546490000.0 -2.146760e+10  5.090040e+11   \n",
      "\n",
      "               1             0  \n",
      "20  1.000000e+00 -2.000000e+01  \n",
      "30 -5.000000e+01  6.000000e+02  \n",
      "40  2.600000e+03 -2.400000e+04  \n",
      "50 -1.540000e+05  1.200000e+06  \n",
      "60  1.044000e+07 -7.200000e+07  \n",
      "70 -8.028000e+08  5.040000e+09  \n",
      "80  6.926400e+10 -4.032000e+11  \n",
      "90 -6.636960e+12  3.628800e+13   \n",
      "\n",
      "Sơ đồ chia:\n",
      "        1.000000e+00  -4.400000e+02   8.260000e+04  -8.624000e+06  \\\n",
      "20.0            1.0         -420.0        74200.0     -7140000.0   \n",
      "30.0            1.0         -410.0        70300.0     -6515000.0   \n",
      "40.0            1.0         -400.0        66600.0     -5960000.0   \n",
      "50.0            1.0         -390.0        63100.0     -5469000.0   \n",
      "60.0            1.0         -380.0        59800.0     -5036000.0   \n",
      "70.0            1.0         -370.0        56700.0     -4655000.0   \n",
      "80.0            1.0         -360.0        53800.0     -4320000.0   \n",
      "90.0            1.0         -350.0        51100.0     -4025000.0   \n",
      "\n",
      "       5.464900e+08  -2.146760e+10   5.090040e+11  -6.636960e+12  \\\n",
      "20.0    403690000.0  -1.339380e+10   2.411280e+11  -1.814400e+12   \n",
      "30.0    351040000.0  -1.093640e+10   1.809120e+11  -1.209600e+12   \n",
      "40.0    308090000.0  -9.144000e+09   1.432440e+11  -9.072000e+11   \n",
      "50.0    273040000.0  -7.815600e+09   1.182240e+11  -7.257600e+11   \n",
      "60.0    244330000.0  -6.807800e+09   1.005360e+11  -6.048000e+11   \n",
      "70.0    220640000.0  -6.022800e+09   8.740800e+10  -5.184000e+11   \n",
      "80.0    200890000.0  -5.396400e+09   7.729200e+10  -4.536000e+11   \n",
      "90.0    184240000.0  -4.886000e+09   6.926400e+10  -4.032000e+11   \n",
      "\n",
      "       3.628800e+13  \n",
      "20.0            0.0  \n",
      "30.0            0.0  \n",
      "40.0            0.0  \n",
      "50.0            0.0  \n",
      "60.0            0.0  \n",
      "70.0            0.0  \n",
      "80.0            0.0  \n",
      "90.0            0.0  \n",
      "\n",
      "Di:\n",
      "       0     1     2     3     4     5     6     7             8\n",
      "0   1.0 -10.0 -20.0 -30.0 -40.0 -50.0 -60.0 -70.0 -5.040000e+10\n",
      "1  10.0   1.0 -10.0 -20.0 -30.0 -40.0 -50.0 -60.0  7.200000e+09\n",
      "2  20.0  10.0   1.0 -10.0 -20.0 -30.0 -40.0 -50.0 -2.400000e+09\n",
      "3  30.0  20.0  10.0   1.0 -10.0 -20.0 -30.0 -40.0  1.440000e+09\n",
      "4  40.0  30.0  20.0  10.0   1.0 -10.0 -20.0 -30.0 -1.440000e+09\n",
      "5  50.0  40.0  30.0  20.0  10.0   1.0 -10.0 -20.0  2.400000e+09\n",
      "6  60.0  50.0  40.0  30.0  20.0  10.0   1.0 -10.0 -7.200000e+09\n",
      "7  70.0  60.0  50.0  40.0  30.0  20.0  10.0   1.0  5.040000e+10\n",
      "\n",
      "Y/Di =\n",
      " [[-2.11230159e-09  1.70944444e-08 -5.50500000e-08  1.05743056e-07\n",
      "  -1.25465278e-07  8.54375000e-08 -3.15597222e-08  4.94960317e-09]]\n",
      "\n",
      "Hệ số đa thức Lagrange cơ bản\n",
      "               0             1         2         3         4         5  \\\n",
      "0 -1.984127e-11  8.333333e-09 -0.000001  0.000142 -0.008010  0.265750   \n",
      "1  1.388889e-10 -5.694444e-08  0.000010 -0.000905  0.048756 -1.518944   \n",
      "2 -4.166667e-10  1.666667e-07 -0.000028  0.002483 -0.128371  3.810000   \n",
      "3  6.944444e-10 -2.708333e-07  0.000044 -0.003798  0.189611 -5.427500   \n",
      "4 -6.944444e-10  2.638889e-07 -0.000042  0.003497 -0.169674  4.727639   \n",
      "5  4.166667e-10 -1.541667e-07  0.000024 -0.001940  0.091933 -2.509500   \n",
      "6 -1.388889e-10  5.000000e-08 -0.000007  0.000600 -0.027901  0.749500   \n",
      "7  1.984127e-11 -6.944444e-09  0.000001 -0.000080  0.003656 -0.096944   \n",
      "\n",
      "           6      7  \n",
      "0  -4.784286   36.0  \n",
      "1  25.126667 -168.0  \n",
      "2 -59.685000  378.0  \n",
      "3  82.100000 -504.0  \n",
      "4 -69.816667  420.0  \n",
      "5  36.420000 -216.0  \n",
      "6 -10.735000   63.0  \n",
      "7   1.374286   -8.0  \n",
      "\n",
      "Hệ số đa thức P tìm được:\n",
      "               7             6         5         4         3         2  \\\n",
      "0 -9.626984e-10  3.527222e-07 -0.000052  0.004048 -0.172271  3.966505   \n",
      "\n",
      "           1       0  \n",
      "0 -43.301026  262.81  \n",
      "\n",
      "Tính P tại x = [100]\n",
      "                   7             6         5         4         3         2  \\\n",
      "0.0   -9.626984e-10  3.527222e-07 -0.000052  0.004048 -0.172271  3.966505   \n",
      "100.0 -9.626984e-10  2.564524e-07 -0.000027  0.001368 -0.035423  0.424237   \n",
      "\n",
      "               1       0  \n",
      "0.0   -43.301026  262.81  \n",
      "100.0  -0.877300  175.08  \n",
      "\n",
      "175.0800000203286\n"
     ]
    }
   ],
   "source": [
    "# somoc = int(input(\"Số mốc nội suy: \"))\n",
    "# X = nhapX()\n",
    "# Y = nhapY()\n",
    "\n",
    "X = np.array([[20,30,40,50,60,70,80,90]])\n",
    "Y = np.array([[106.46, 123.08, 132.12, 152.27, 180.67, 205.05, 227.23, 249.46]])\n",
    "b = np.array([[100]])\n",
    "\n",
    "NoisuyLG(X, Y, b)"
   ]
  },
  {
   "cell_type": "markdown",
   "id": "54c32661",
   "metadata": {},
   "source": [
    "# Nội suy Newton"
   ]
  },
  {
   "cell_type": "markdown",
   "id": "5d206e3a",
   "metadata": {},
   "source": [
    "### Newton tiến"
   ]
  },
  {
   "cell_type": "code",
   "execution_count": 13,
   "id": "1f81b388",
   "metadata": {
    "collapsed": true
   },
   "outputs": [
    {
     "name": "stdout",
     "output_type": "stream",
     "text": [
      "\n",
      "Bảng tỷ sai phân:\n",
      "              0      1        2         3         4         5             6  \\\n",
      "1920.0  106.46  0.000  0.00000  0.000000  0.000000  0.000000  0.000000e+00   \n",
      "1930.0  123.08  1.662  0.00000  0.000000  0.000000  0.000000  0.000000e+00   \n",
      "1940.0  132.12  0.904 -0.03790  0.000000  0.000000  0.000000  0.000000e+00   \n",
      "1950.0  152.27  2.015  0.05555  0.003115  0.000000  0.000000  0.000000e+00   \n",
      "1960.0  180.67  2.840  0.04125 -0.000477 -0.000090  0.000000  0.000000e+00   \n",
      "1970.0  205.05  2.438 -0.02010 -0.002045 -0.000039  0.000001  0.000000e+00   \n",
      "1980.0  227.23  2.218 -0.01100  0.000303  0.000059  0.000002  1.577778e-08   \n",
      "1990.0  249.46  2.223  0.00025  0.000375  0.000002 -0.000001 -5.161111e-08   \n",
      "\n",
      "                   7  \n",
      "1920.0  0.000000e+00  \n",
      "1930.0  0.000000e+00  \n",
      "1940.0  0.000000e+00  \n",
      "1950.0  0.000000e+00  \n",
      "1960.0  0.000000e+00  \n",
      "1970.0  0.000000e+00  \n",
      "1980.0  0.000000e+00  \n",
      "1990.0 -9.626984e-10  \n",
      "\n",
      "Bảng nhân:\n",
      "           7        6           5             4             3             2  \\\n",
      "0.0     0.0      0.0         0.0  0.000000e+00  0.000000e+00  0.000000e+00   \n",
      "1920.0  0.0      0.0         0.0  0.000000e+00  0.000000e+00  0.000000e+00   \n",
      "1930.0  0.0      0.0         0.0  0.000000e+00  0.000000e+00  1.000000e+00   \n",
      "1940.0  0.0      0.0         0.0  0.000000e+00  1.000000e+00 -5.790000e+03   \n",
      "1950.0  0.0      0.0         0.0  1.000000e+00 -7.740000e+03  2.246510e+07   \n",
      "1960.0  0.0      0.0         1.0 -9.700000e+03  3.763550e+07 -7.301093e+10   \n",
      "1970.0  0.0      1.0    -11670.0  5.674450e+07 -1.471529e+11  2.146493e+14   \n",
      "1980.0  1.0 -13650.0  79851100.0 -2.595070e+11  5.060120e+14 -5.919925e+17   \n",
      "\n",
      "                   1             0  \n",
      "0.0     0.000000e+00  1.000000e+00  \n",
      "1920.0  1.000000e+00 -1.920000e+03  \n",
      "1930.0 -3.850000e+03  3.705600e+06  \n",
      "1940.0  1.117460e+07 -7.188864e+09  \n",
      "1950.0 -2.897933e+10  1.401828e+13  \n",
      "1960.0  7.081778e+13 -2.747584e+16  \n",
      "1970.0 -1.669869e+17  5.412740e+19  \n",
      "1980.0  3.847614e+20 -1.071723e+23  \n",
      "\n",
      "Hệ số đa thức P tìm được:\n",
      "               7         6         5           4              3             2  \\\n",
      "0 -9.626984e-10  0.000013 -0.077056  250.712352 -489419.906554  5.732210e+08   \n",
      "\n",
      "              1             0  \n",
      "0 -3.729696e+11  1.039995e+14  \n",
      "\n",
      "Tính P tại x = [2000]\n",
      "                    7         6         5           4              3  \\\n",
      "0.0    -9.626984e-10  0.000013 -0.077056  250.712352 -489419.906554   \n",
      "2000.0 -9.626984e-10  0.000011 -0.054593  141.525925 -206368.057019   \n",
      "\n",
      "                   2             1             0  \n",
      "0.0     5.732210e+08 -3.729696e+11  1.039995e+14  \n",
      "2000.0  1.604849e+08 -5.199975e+10  1.751719e+02  \n",
      "\n",
      "175.171875\n"
     ]
    }
   ],
   "source": [
    "X = np.array([[1920, 1930, 1940, 1950, 1960, 1970, 1980, 1990]])\n",
    "Y = np.array([[106.46, 123.08, 132.12, 152.27, 180.67, 205.05, 227.23, 249.46]])\n",
    "b = np.array([[2000]])\n",
    "\n",
    "NoisuyNewtonTien(X,Y,b)"
   ]
  },
  {
   "cell_type": "markdown",
   "id": "3f0dad90",
   "metadata": {},
   "source": [
    "### Newton lùi"
   ]
  },
  {
   "cell_type": "code",
   "execution_count": 14,
   "id": "f85aedba",
   "metadata": {
    "collapsed": true
   },
   "outputs": [
    {
     "name": "stdout",
     "output_type": "stream",
     "text": [
      "\n",
      "Bảng tỷ sai phân:\n",
      "              0      1        2         3         4         5             6  \\\n",
      "1920.0  106.46  0.000  0.00000  0.000000  0.000000  0.000000  0.000000e+00   \n",
      "1930.0  123.08  1.662  0.00000  0.000000  0.000000  0.000000  0.000000e+00   \n",
      "1940.0  132.12  0.904 -0.03790  0.000000  0.000000  0.000000  0.000000e+00   \n",
      "1950.0  152.27  2.015  0.05555  0.003115  0.000000  0.000000  0.000000e+00   \n",
      "1960.0  180.67  2.840  0.04125 -0.000477 -0.000090  0.000000  0.000000e+00   \n",
      "1970.0  205.05  2.438 -0.02010 -0.002045 -0.000039  0.000001  0.000000e+00   \n",
      "1980.0  227.23  2.218 -0.01100  0.000303  0.000059  0.000002  1.577778e-08   \n",
      "1990.0  249.46  2.223  0.00025  0.000375  0.000002 -0.000001 -5.161111e-08   \n",
      "\n",
      "                   7  \n",
      "1920.0  0.000000e+00  \n",
      "1930.0  0.000000e+00  \n",
      "1940.0  0.000000e+00  \n",
      "1950.0  0.000000e+00  \n",
      "1960.0  0.000000e+00  \n",
      "1970.0  0.000000e+00  \n",
      "1980.0  0.000000e+00  \n",
      "1990.0 -9.626984e-10  \n",
      "\n",
      "Bảng nhân:\n",
      "           7        6           5             4             3             2  \\\n",
      "0.0     0.0      0.0         0.0  0.000000e+00  0.000000e+00  0.000000e+00   \n",
      "1990.0  0.0      0.0         0.0  0.000000e+00  0.000000e+00  0.000000e+00   \n",
      "1980.0  0.0      0.0         0.0  0.000000e+00  0.000000e+00  1.000000e+00   \n",
      "1970.0  0.0      0.0         0.0  0.000000e+00  1.000000e+00 -5.940000e+03   \n",
      "1960.0  0.0      0.0         0.0  1.000000e+00 -7.900000e+03  2.340350e+07   \n",
      "1950.0  0.0      0.0         1.0 -9.850000e+03  3.880850e+07 -7.645078e+10   \n",
      "1940.0  0.0      1.0    -11790.0  5.791750e+07 -1.517393e+11  2.236156e+14   \n",
      "1930.0  1.0 -13720.0  80672200.0 -2.635200e+11  5.164724e+14 -6.073294e+17   \n",
      "\n",
      "                   1             0  \n",
      "0.0     0.000000e+00  1.000000e+00  \n",
      "1990.0  1.000000e+00 -1.990000e+03  \n",
      "1980.0 -3.970000e+03  3.940200e+06  \n",
      "1970.0  1.176110e+07 -7.762194e+09  \n",
      "1960.0 -3.081395e+10  1.521390e+13  \n",
      "1950.0  7.530110e+13 -2.966711e+16  \n",
      "1940.0 -1.757512e+17  5.755418e+19  \n",
      "1930.0  3.967541e+20 -1.110796e+23  \n",
      "\n",
      "Hệ số đa thức P tìm được:\n",
      "               7         6         5           4              3             2  \\\n",
      "0 -9.626984e-10  0.000013 -0.077056  250.712352 -489419.906554  5.732210e+08   \n",
      "\n",
      "              1             0  \n",
      "0 -3.729696e+11  1.039995e+14  \n",
      "\n",
      "Tính P tại x = [2000]\n",
      "                    7         6         5           4              3  \\\n",
      "0.0    -9.626984e-10  0.000013 -0.077056  250.712352 -489419.906554   \n",
      "2000.0 -9.626984e-10  0.000011 -0.054593  141.525925 -206368.057019   \n",
      "\n",
      "                   2             1             0  \n",
      "0.0     5.732210e+08 -3.729696e+11  1.039995e+14  \n",
      "2000.0  1.604849e+08 -5.199975e+10  1.753125e+02  \n",
      "\n",
      "175.3125\n"
     ]
    }
   ],
   "source": [
    "X = np.array([[1920, 1930, 1940, 1950, 1960, 1970, 1980, 1990]])\n",
    "Y = np.array([[106.46, 123.08, 132.12, 152.27, 180.67, 205.05, 227.23, 249.46]])\n",
    "b = np.array([[2000]])\n",
    "\n",
    "NoisuyNewtonLui(X,Y,b)"
   ]
  },
  {
   "cell_type": "markdown",
   "id": "81b195d3",
   "metadata": {},
   "source": [
    "### Newton cách đều tiến"
   ]
  },
  {
   "cell_type": "code",
   "execution_count": 12,
   "id": "b1e65d8f",
   "metadata": {
    "collapsed": true
   },
   "outputs": [
    {
     "name": "stdout",
     "output_type": "stream",
     "text": [
      "\n",
      "h = 10.0\n",
      "\n",
      "Bảng sai phân:\n",
      "              0      1      2      3      4      5      6      7\n",
      "1920.0  106.46   0.00   0.00   0.00   0.00   0.00   0.00   0.00\n",
      "1930.0  123.08  16.62   0.00   0.00   0.00   0.00   0.00   0.00\n",
      "1940.0  132.12   9.04  -7.58   0.00   0.00   0.00   0.00   0.00\n",
      "1950.0  152.27  20.15  11.11  18.69   0.00   0.00   0.00   0.00\n",
      "1960.0  180.67  28.40   8.25  -2.86 -21.55   0.00   0.00   0.00\n",
      "1970.0  205.05  24.38  -4.02 -12.27  -9.41  12.14   0.00   0.00\n",
      "1980.0  227.23  22.18  -2.20   1.82  14.09  23.50  11.36   0.00\n",
      "1990.0  249.46  22.23   0.05   2.25   0.43 -13.66 -37.16 -48.52\n",
      "\n",
      "Bảng nhân:\n",
      "        7     6      5      4       3       2      1    0\n",
      "0.0  0.0   0.0    0.0    0.0     0.0     0.0    0.0  1.0\n",
      "0.0  0.0   0.0    0.0    0.0     0.0     0.0    1.0 -0.0\n",
      "1.0  0.0   0.0    0.0    0.0     0.0     1.0   -1.0  0.0\n",
      "2.0  0.0   0.0    0.0    0.0     1.0    -3.0    2.0  0.0\n",
      "3.0  0.0   0.0    0.0    1.0    -6.0    11.0   -6.0  0.0\n",
      "4.0  0.0   0.0    1.0  -10.0    35.0   -50.0   24.0  0.0\n",
      "5.0  0.0   1.0  -15.0   85.0  -225.0   274.0 -120.0  0.0\n",
      "6.0  1.0 -21.0  175.0 -735.0  1624.0 -1764.0  720.0  0.0\n",
      "\n",
      "Sau khi chia giai thừa:\n",
      "         0      1     2      3         4         5         6         7\n",
      "0  106.46  16.62 -3.79  3.115 -0.897917  0.101167  0.015778 -0.009627\n",
      "\n",
      "Hệ số đa thức Pn(t):\n",
      "           7         6         5         4         3         2          1  \\\n",
      "0 -0.009627  0.217944 -1.820222  6.507361 -7.140889 -6.765306  25.630738   \n",
      "\n",
      "        0  \n",
      "0  106.46  \n",
      "\n",
      "t = [8.]\n",
      "\n",
      "\n",
      "Tính P tại t = [8.]\n",
      "             7         6         5         4         3         2          1  \\\n",
      "0.0 -0.009627  0.217944 -1.820222  6.507361 -7.140889 -6.765306  25.630738   \n",
      "8.0 -0.009627  0.140929 -0.692794  0.965012  0.579206 -2.131655   8.577500   \n",
      "\n",
      "          0  \n",
      "0.0  106.46  \n",
      "8.0  175.08  \n",
      "\n",
      "175.0800000000089\n"
     ]
    }
   ],
   "source": [
    "somoc = 8\n",
    "x0 = 1920\n",
    "xn = 1990\n",
    "b = np.array([[2000]])\n",
    "\n",
    "X = np.linspace(x0, xn, somoc).reshape(1,-1)\n",
    "Y = np.array([[106.46, 123.08, 132.12, 152.27, 180.67, 205.05, 227.23, 249.46]])\n",
    "\n",
    "NoisuyNTcachdeuTien(X, Y, b)"
   ]
  },
  {
   "cell_type": "markdown",
   "id": "6f81ddc7",
   "metadata": {},
   "source": [
    "### Newton cách đều lùi"
   ]
  },
  {
   "cell_type": "code",
   "execution_count": 6,
   "id": "1ccd430d",
   "metadata": {
    "collapsed": true
   },
   "outputs": [
    {
     "name": "stdout",
     "output_type": "stream",
     "text": [
      "\n",
      "h = 10.0\n",
      "\n",
      "Bảng sai phân:\n",
      "              0      1      2      3      4      5      6      7\n",
      "1920.0  106.46   0.00   0.00   0.00   0.00   0.00   0.00   0.00\n",
      "1930.0  123.08  16.62   0.00   0.00   0.00   0.00   0.00   0.00\n",
      "1940.0  132.12   9.04  -7.58   0.00   0.00   0.00   0.00   0.00\n",
      "1950.0  152.27  20.15  11.11  18.69   0.00   0.00   0.00   0.00\n",
      "1960.0  180.67  28.40   8.25  -2.86 -21.55   0.00   0.00   0.00\n",
      "1970.0  205.05  24.38  -4.02 -12.27  -9.41  12.14   0.00   0.00\n",
      "1980.0  227.23  22.18  -2.20   1.82  14.09  23.50  11.36   0.00\n",
      "1990.0  249.46  22.23   0.05   2.25   0.43 -13.66 -37.16 -48.52\n",
      "\n",
      "Bảng nhân:\n",
      "         7     6      5      4       3       2      1    0\n",
      " 0.0  0.0   0.0    0.0    0.0     0.0     0.0    0.0  1.0\n",
      "-0.0  0.0   0.0    0.0    0.0     0.0     0.0    1.0  0.0\n",
      "-1.0  0.0   0.0    0.0    0.0     0.0     1.0    1.0  0.0\n",
      "-2.0  0.0   0.0    0.0    0.0     1.0     3.0    2.0  0.0\n",
      "-3.0  0.0   0.0    0.0    1.0     6.0    11.0    6.0  0.0\n",
      "-4.0  0.0   0.0    1.0   10.0    35.0    50.0   24.0  0.0\n",
      "-5.0  0.0   1.0   15.0   85.0   225.0   274.0  120.0  0.0\n",
      "-6.0  1.0  21.0  175.0  735.0  1624.0  1764.0  720.0  0.0\n",
      "\n",
      "Sau khi chia giai thừa:\n",
      "         0      1      2      3         4         5         6         7\n",
      "0  249.46  22.23  0.025  0.375  0.017917 -0.113833 -0.051611 -0.009627\n",
      "\n",
      "Hệ số đa thức Pn(t):\n",
      "           7         6         5          4          3          2         1  \\\n",
      "0 -0.009627 -0.253778 -2.572722 -12.583194 -30.748389 -35.468028  7.255738   \n",
      "\n",
      "        0  \n",
      "0  249.46  \n",
      "\n",
      "t = [1.]\n",
      "\n",
      "\n",
      "Tính P tại t = [1.]\n",
      "             7         6         5          4          3          2          1  \\\n",
      "0.0 -0.009627 -0.253778 -2.572722 -12.583194 -30.748389 -35.468028   7.255738   \n",
      "1.0 -0.009627 -0.263405 -2.836127 -15.419321 -46.167710 -81.635738 -74.380000   \n",
      "\n",
      "          0  \n",
      "0.0  249.46  \n",
      "1.0  175.08  \n",
      "\n",
      "175.0800000000023\n"
     ]
    }
   ],
   "source": [
    "somoc = 8\n",
    "x0 = 1920\n",
    "xn = 1990\n",
    "\n",
    "X = np.linspace(x0, xn, somoc).reshape(1,-1)\n",
    "Y = np.array([[106.46, 123.08, 132.12, 152.27, 180.67, 205.05, 227.23, 249.46]])\n",
    "b = np.array([[2000]])\n",
    "\n",
    "NoisuyNTcachdeuLui(X, Y, b)"
   ]
  },
  {
   "cell_type": "markdown",
   "id": "7ee81f10",
   "metadata": {},
   "source": [
    "# Bình phương tối thiểu"
   ]
  },
  {
   "cell_type": "code",
   "execution_count": 6,
   "id": "61a31cde",
   "metadata": {
    "collapsed": true
   },
   "outputs": [
    {
     "name": "stdout",
     "output_type": "stream",
     "text": [
      "Phi(x):\n",
      "            0      1      2      3      4      5    6      7       8       9\n",
      "phi_1  1.200  1.300  1.400  1.600  1.700  1.900  2.0  2.100   2.200   2.500\n",
      "phi_2  1.728  2.197  2.744  4.096  4.913  6.859  8.0  9.261  10.648  15.625\n",
      "phi_3  1.000  1.000  1.000  1.000  1.000  1.000  1.0  1.000   1.000   1.000\n",
      "\n",
      "Bộ hệ số:\n",
      " [[ 33.65     134.6453    17.9     ]\n",
      " [134.6453   610.589645  66.071   ]\n",
      " [ 17.9       66.071     10.      ]]\n",
      "\n",
      "Hệ số tự do: \n",
      " [[ 75.90187907]\n",
      " [307.49955793]\n",
      " [ 40.10576724]]\n",
      "\n",
      "Nghiệm của hệ: \n",
      " [[1.64778608]\n",
      " [0.08922024]\n",
      " [0.47155256]]\n"
     ]
    }
   ],
   "source": [
    "x = np.array([[0.5, 1.5, 2.5, 3, 4]])\n",
    "y = np.array([[0.45, 0.6, 0.7, 1.88, 6]])\n",
    "\n",
    "phi1_x = x.copy() # Nếu cần một mảng giống x thì cần thêm \".copy()\" để không ảnh hưởng đến ô nhớ chứa x\n",
    "phi2_x = x**3 # tự viết\n",
    "phi3_x = np.ones((1,10)) # tự viết\n",
    "\n",
    "f = x*np.log(-y) # tự viết\n",
    "\n",
    "# Nếu chỉ có phi1 và phi2 thì xóa phi3 đi :D\n",
    "phi_x = np.concatenate([phi1_x, phi2_x, phi3_x])\n",
    "\n",
    "\n",
    "\n",
    "Binhphuongtoithieu(x, f, phi1_x)"
   ]
  },
  {
   "cell_type": "markdown",
   "id": "7516cf5a",
   "metadata": {},
   "source": [
    "# Tính gần đúng tích phân"
   ]
  },
  {
   "cell_type": "markdown",
   "id": "c585aef4",
   "metadata": {},
   "source": [
    "### Tính theo công thức hình thang"
   ]
  },
  {
   "cell_type": "code",
   "execution_count": 16,
   "id": "9ad802cd",
   "metadata": {
    "collapsed": true
   },
   "outputs": [
    {
     "name": "stdout",
     "output_type": "stream",
     "text": [
      "h = 0.1\n",
      "h / 2 = 0.05 \n",
      "\n",
      "         0         1        2         3         4         5         6   \\\n",
      "x  1.000000  1.100000  1.20000  1.300000  1.400000  1.500000  1.600000   \n",
      "y  1.414214  1.486607  1.56205  1.640122  1.720465  1.802776  1.886796   \n",
      "\n",
      "         7         8         9         10  \n",
      "x  1.700000  1.800000  1.900000  2.000000  \n",
      "y  1.972308  2.059126  2.147091  2.236068  \n",
      "\n",
      "               0     1         2         3        4         5         6   \\\n",
      "x(h/2)  1.000000  1.05  1.100000  1.150000  1.20000  1.250000  1.300000   \n",
      "y(h/2)  1.414214  1.45  1.486607  1.523975  1.56205  1.600781  1.640122   \n",
      "\n",
      "             7         8         9   ...        11        12        13  \\\n",
      "x(h/2)  1.35000  1.400000  1.450000  ...  1.550000  1.600000  1.650000   \n",
      "y(h/2)  1.68003  1.720465  1.761391  ...  1.844587  1.886796  1.929378   \n",
      "\n",
      "              14        15        16        17        18        19        20  \n",
      "x(h/2)  1.700000  1.750000  1.800000  1.850000  1.900000  1.950000  2.000000  \n",
      "y(h/2)  1.972308  2.015564  2.059126  2.102974  2.147091  2.191461  2.236068  \n",
      "\n",
      "[2 rows x 21 columns]\n",
      "\n",
      "Ih = 1.810248181997453\n",
      "I_h/2 = 1.8101311618065883\n",
      "M2 = 0.35355339059327373\n",
      "Sai số: 0.00029462782549439484\n",
      "Sai số qua lưới phủ: 3.9006730288226876e-05\n"
     ]
    }
   ],
   "source": [
    "def f(x): # tự viết\n",
    "    return np.sqrt(x**2 + 1)\n",
    "\n",
    "def daoham2(x): # tự viết\n",
    "    return 1/np.sqrt(x**2 + 1) - x**2/np.sqrt((x**2+1)**3)\n",
    "\n",
    "x0 = 1\n",
    "xn = 2\n",
    "h = 0.1\n",
    "epxilon = 0\n",
    "\n",
    "# Nếu bài toán không yêu cầu tính sai số theo M2 thì không cần sửa hàm daoham2 và đừng để ý đến \"sai số\"\n",
    "# Nếu bài toán yêu cầu tính toán theo một sai số cho trước thì cần sửa daoham2 và epxilon ở trên, còn nếu tự tính tay ra h thì thoy :D\n",
    "Tichphangandung_HT(x0, xn, h, f, daoham2=daoham2, epxilon=epxilon)"
   ]
  },
  {
   "cell_type": "markdown",
   "id": "a4fc5721",
   "metadata": {},
   "source": [
    "### Tính theo công thức Simpson"
   ]
  },
  {
   "cell_type": "code",
   "execution_count": 17,
   "id": "39edf0a3",
   "metadata": {
    "collapsed": true
   },
   "outputs": [
    {
     "name": "stdout",
     "output_type": "stream",
     "text": [
      "h = 0.1\n",
      "h / 2 = 0.05 \n",
      "\n",
      "        0         1         2         3         4         5         6   \\\n",
      "x  1.00000  1.100000  1.200000  1.300000  1.400000  1.500000  1.600000   \n",
      "y  2.22398  2.276638  2.326967  2.375208  2.421565  2.466212  2.509299   \n",
      "\n",
      "         7         8         9         10  \n",
      "x  1.700000  1.800000  1.900000  2.000000  \n",
      "y  2.550954  2.591292  2.630412  2.668402  \n",
      "\n",
      "              0         1         2         3         4         5         6   \\\n",
      "x(h/2)  1.00000  1.050000  1.100000  1.150000  1.200000  1.250000  1.300000   \n",
      "y(h/2)  2.22398  2.250617  2.276638  2.302078  2.326967  2.351335  2.375208   \n",
      "\n",
      "             7         8         9   ...        11        12        13  \\\n",
      "x(h/2)  1.35000  1.400000  1.450000  ...  1.550000  1.600000  1.650000   \n",
      "y(h/2)  2.39861  2.421565  2.444092  ...  2.487942  2.509299  2.530298   \n",
      "\n",
      "              14        15        16        17        18        19        20  \n",
      "x(h/2)  1.700000  1.750000  1.800000  1.850000  1.900000  1.950000  2.000000  \n",
      "y(h/2)  2.550954  2.571282  2.591292  2.610999  2.630412  2.649543  2.668402  \n",
      "\n",
      "[2 rows x 21 columns]\n",
      "\n",
      "phi1 = 12.299424445374601\n",
      "phi2 = 9.849122754487105\n",
      "Ih = 2.4596108343254626\n",
      "\n",
      "phi1 (h/2) = 24.596795364670278\n",
      "phi2 (h/2) = 22.148547199861707\n",
      "I_h/2 = 2.4596109599615965 \n",
      "\n",
      "M4 = 0.6145045041598498\n",
      "Sai số: 3.4139139119991664e-07\n",
      "Sai số qua lưới phủ: 1.340118762035066e-07\n"
     ]
    }
   ],
   "source": [
    "def f(x):\n",
    "    return np.cbrt(8*x + 3)\n",
    "\n",
    "def daoham4(x):\n",
    "    return 1*-2*-5*-8/3**4*8**4/np.cbrt((8*x+3)**11) # hàm cbrt là hàm căn bậc 3\n",
    "\n",
    "x0 = 1\n",
    "xn = 2\n",
    "h = 0.1\n",
    "epxilon = 0\n",
    "\n",
    "# cách sử dụng tương tự công thức hình thang\n",
    "\n",
    "Simpson(x0, xn, h, f, daoham4=daoham4, epxilon=epxilon)"
   ]
  },
  {
   "cell_type": "markdown",
   "id": "ce8cfde9",
   "metadata": {},
   "source": [
    "# Giải gần đúng phương trình vi phân"
   ]
  },
  {
   "cell_type": "markdown",
   "id": "757b489b",
   "metadata": {},
   "source": [
    "### Euler hiện"
   ]
  },
  {
   "cell_type": "code",
   "execution_count": 22,
   "id": "5598bdf5",
   "metadata": {
    "collapsed": true
   },
   "outputs": [
    {
     "name": "stdout",
     "output_type": "stream",
     "text": [
      "      x         y    z\n",
      "0   1.0  1.000000  0.0\n",
      "1   1.1  1.100000  0.0\n",
      "2   1.2  1.210000  0.0\n",
      "3   1.3  1.331000  0.0\n",
      "4   1.4  1.464100  0.0\n",
      "5   1.5  1.610510  0.0\n",
      "6   1.6  1.771561  0.0\n",
      "7   1.7  1.948717  0.0\n",
      "8   1.8  2.143589  0.0\n",
      "9   1.9  2.357948  0.0\n",
      "10  2.0  2.593742  0.0\n"
     ]
    }
   ],
   "source": [
    "def f(x, y, z):\n",
    "    return np.array([[x*y/x], # tự viết\n",
    "                     [0]]) # Nếu đề bài cho phương trình vi phân 2 chiều thì cần sửa hàm này, nếu không thì để 0\n",
    "\n",
    "x0 = 1\n",
    "xn = 2\n",
    "h = 0.1\n",
    "w0 = np.array([[1], # tự viết\n",
    "               [0]]) # tự viết\n",
    "\n",
    "Euler_hien(x0, xn, h, w0, f)"
   ]
  },
  {
   "cell_type": "markdown",
   "id": "7cf77096",
   "metadata": {},
   "source": [
    "### Euler ẩn"
   ]
  },
  {
   "cell_type": "code",
   "execution_count": 23,
   "id": "dffbe4ac",
   "metadata": {
    "collapsed": true
   },
   "outputs": [
    {
     "name": "stdout",
     "output_type": "stream",
     "text": [
      "      x         y         u\n",
      "0   1.0  1.000000  1.100000\n",
      "1   1.1  1.110000  1.221000\n",
      "2   1.2  1.232100  1.355310\n",
      "3   1.3  1.367631  1.504394\n",
      "4   1.4  1.518070  1.669877\n",
      "5   1.5  1.685058  1.853564\n",
      "6   1.6  1.870415  2.057456\n",
      "7   1.7  2.076160  2.283776\n",
      "8   1.8  2.304538  2.534992\n",
      "9   1.9  2.558037  2.813841\n",
      "10  2.0  2.839421  3.123363\n"
     ]
    }
   ],
   "source": [
    "def f(x, y): #tự viết\n",
    "    return x*y/x\n",
    "\n",
    "x0 = 1\n",
    "xn = 2\n",
    "h = 0.1\n",
    "y0 = 1\n",
    "    \n",
    "Euler_an(x0, xn, h, y0, f)"
   ]
  },
  {
   "cell_type": "markdown",
   "id": "148089bb",
   "metadata": {},
   "source": [
    "### Euler cải tiến"
   ]
  },
  {
   "cell_type": "code",
   "execution_count": 72,
   "id": "36ade276",
   "metadata": {
    "collapsed": true
   },
   "outputs": [
    {
     "name": "stdout",
     "output_type": "stream",
     "text": [
      "     x          y           u\n",
      "0  0.0   2.000000    3.500000\n",
      "1  0.5   3.804325    5.836893\n",
      "2  1.0   6.316538    9.188485\n",
      "3  1.5   9.924068   14.083285\n",
      "4  2.0  15.196298   21.303289\n",
      "5  2.5  22.975938   32.010066\n",
      "6  3.0  34.514920   47.932543\n",
      "7  3.5  51.676811   71.646901\n",
      "8  4.0  77.238524  106.993953\n"
     ]
    }
   ],
   "source": [
    "def f(x, y):\n",
    "    return 4*np.exp(0.8*x) - 0.5*y\n",
    "    \n",
    "x0 = 1\n",
    "xn = 2\n",
    "h = 0.1\n",
    "y0 = 1\n",
    "\n",
    "Euler_caitien(x0, xn, h, y0, f)"
   ]
  },
  {
   "cell_type": "markdown",
   "id": "c0fe041e",
   "metadata": {},
   "source": [
    "### R-K 4"
   ]
  },
  {
   "cell_type": "code",
   "execution_count": 84,
   "id": "fae6ea1d",
   "metadata": {
    "collapsed": true
   },
   "outputs": [
    {
     "name": "stdout",
     "output_type": "stream",
     "text": [
      "     x         y         z        k1        l1        k2        l2        k3  \\\n",
      "0  0.0  1.000000  0.500000  0.000000 -0.100000  0.004500 -0.095500  0.004488   \n",
      "1  0.1  1.004488  0.404360  0.008951 -0.091408  0.013352 -0.087275  0.013316   \n",
      "2  0.2  1.017803  0.316969  0.017608 -0.083460  0.021768 -0.079562  0.021711   \n",
      "3  0.3  1.039514  0.237316  0.025696 -0.075885  0.029484 -0.072087  0.029411   \n",
      "4  0.4  1.068923  0.165166  0.032967 -0.068411  0.036272 -0.064582  0.036191   \n",
      "\n",
      "         l3        k4        l4  \n",
      "0 -0.095715  0.008951 -0.091408  \n",
      "1 -0.087466  0.017608 -0.083460  \n",
      "2 -0.079723  0.025696 -0.075885  \n",
      "3 -0.072217  0.032967 -0.068411  \n",
      "4 -0.064680  0.039219 -0.060781  \n"
     ]
    }
   ],
   "source": [
    "def f(x, y, z): # tự viết\n",
    "    return 2*x - 1.1*x*y\n",
    "\n",
    "def g(x, y, z): # Nếu đề bài cho phương trình vi phân 1 chiều thì return 0\n",
    "    return 0.9*x*y - y\n",
    "\n",
    "x0 = 0\n",
    "xn = 0.4\n",
    "h = 0.1\n",
    "y0 = 1\n",
    "z0 = 0.5\n",
    "\n",
    "RK_4(x0, xn, h, y0, z0, f, g)"
   ]
  }
 ],
 "metadata": {
  "kernelspec": {
   "display_name": "Python 3 (ipykernel)",
   "language": "python",
   "name": "python3"
  },
  "language_info": {
   "codemirror_mode": {
    "name": "ipython",
    "version": 3
   },
   "file_extension": ".py",
   "mimetype": "text/x-python",
   "name": "python",
   "nbconvert_exporter": "python",
   "pygments_lexer": "ipython3",
   "version": "3.8.0"
  }
 },
 "nbformat": 4,
 "nbformat_minor": 5
}
