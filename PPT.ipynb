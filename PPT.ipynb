{
 "cells": [
  {
   "cell_type": "markdown",
   "id": "cc37e82f",
   "metadata": {},
   "source": [
    "## Made by VanPhu Điện tử 11 - K63 RHUST\n",
    "https://www.facebook.com/phu.smallcityboiz"
   ]
  },
  {
   "cell_type": "markdown",
   "id": "fb2dd7df",
   "metadata": {},
   "source": [
    "Source Code này chủ yếu để giải (hầu hết) bài tập trong đề cương phương pháp tính.\n",
    "Code chỉ hỗ trợ việc tính toán, muốn hiểu hàm xuất ra những gì thì cần học và hiểu cách tính.\n",
    "Trong chương trình học còn thuật toán Gauss-Seidel và tính đạo hàm gần đúng mình chưa viết được do phần đó tự đọc :(.\n",
    "Mình còn gà nên code hơi cồng kềnh, mong các bạn thông cảm. Nếu có thắc mắc về cách sử dụng các hàm có thể ib cho mình vào link fb ở trên (mình không giảng lại lý thuyết)."
   ]
  },
  {
   "cell_type": "markdown",
   "id": "d23d3989",
   "metadata": {},
   "source": [
    "#### Note:\n",
    "(Nếu chưa biết về 1 số hàm trong thư viện numpy)"
   ]
  },
  {
   "cell_type": "markdown",
   "id": "e5c48916",
   "metadata": {},
   "source": [
    "    x**a = x^a (a phải là số nguyên)\n",
    "    np.sqrt(a) = căn2(a)\n",
    "    np.cbrt(a) = căn3(a)\n",
    "    np.ones((1, 3)) = [[1, 1, 1]] (ma trận 1x3)\n",
    "    np.zeros((2, 3)) = [[0, 0, 0], (ma trận 2x3)\n",
    "                        [0, 0, 0]]"
   ]
  },
  {
   "cell_type": "code",
   "execution_count": 1,
   "id": "7d49da04",
   "metadata": {},
   "outputs": [],
   "source": [
    "import numpy as np\n",
    "import pandas as pd\n",
    "import matplotlib.pyplot as plt\n",
    "from full_code import chiadoi, tieptuyen, daycung, lapdon, Gauss, Gauss_Jordan, lapJacobi, lapdon_matrix, giai_Gauss,\\\n",
    "giai_GaussJordan, chuan1, chuan2, chuanvocung, chuanEuclid, hoocner, hoocnenguoc, NoisuyLG, NoisuyNewtonLui, NoisuyNewtonTien, \\\n",
    "NoisuyNTcachdeuLui, NoisuyNTcachdeuTien, nhapX, nhapY, Binhphuongtoithieu, Tichphangandung_HT, Simpson, Euler_hien, Euler_an,\\\n",
    "Euler_caitien, RK_4, giaithua"
   ]
  },
  {
   "cell_type": "markdown",
   "id": "b11cbbde",
   "metadata": {},
   "source": [
    "# Sai số"
   ]
  },
  {
   "cell_type": "code",
   "execution_count": 2,
   "id": "7115b73e",
   "metadata": {},
   "outputs": [
    {
     "data": {
      "text/plain": [
       "0.46511627906976744"
      ]
     },
     "execution_count": 2,
     "metadata": {},
     "output_type": "execute_result"
    }
   ],
   "source": [
    "def saisotuongdoi(gandung, saiso):\n",
    "    return saiso/gandung*100\n",
    "\n",
    "saisotuongdoi(2.15, 0.01)"
   ]
  },
  {
   "cell_type": "code",
   "execution_count": 2,
   "id": "24600220",
   "metadata": {},
   "outputs": [
    {
     "data": {
      "text/plain": [
       "29"
      ]
     },
     "execution_count": 2,
     "metadata": {},
     "output_type": "execute_result"
    }
   ],
   "source": [
    "def chusodangtin(a, saisotuongdoi=0, saisotuyetdoi=0):\n",
    "    if saisotuongdoi != 0:\n",
    "        saisotuyetdoi = a*saisotuongdoi\n",
    "    i = -20\n",
    "    while(saisotuyetdoi > 0.5*(10**i)):\n",
    "        i += 1\n",
    "    if i >= 0:\n",
    "        return int(a/(10**i))\n",
    "    else:\n",
    "        return int(a*(10**(-i)))\n",
    "\n",
    "chusodangtin(0.2908, saisotuongdoi=0.0068)"
   ]
  },
  {
   "cell_type": "code",
   "execution_count": 4,
   "id": "3b75651e",
   "metadata": {},
   "outputs": [
    {
     "data": {
      "text/plain": [
       "8742"
      ]
     },
     "execution_count": 4,
     "metadata": {},
     "output_type": "execute_result"
    }
   ],
   "source": [
    "def ham(a):# tự viết\n",
    "    return 6.5*np.sqrt(a+1)\n",
    "def daoham(a):# tự viết\n",
    "    return 6.5/np.sqrt(a+1)\n",
    "def saisotuyetdoicuaham(a, delta_a):\n",
    "    return daoham(a)*delta_a\n",
    "def saisotuongdoicuaham(a, delta_a):\n",
    "    return saisotuyetdoicuaham(a, delta_a)/ham(a)\n",
    "\n",
    "chusodangtin(ham(0.809216), saisotuongdoicuaham(0.809216, 2.7*(10**-5)))"
   ]
  },
  {
   "cell_type": "code",
   "execution_count": 3,
   "id": "277859b7",
   "metadata": {},
   "outputs": [
    {
     "data": {
      "text/plain": [
       "0.280299247349"
      ]
     },
     "execution_count": 3,
     "metadata": {},
     "output_type": "execute_result"
    }
   ],
   "source": [
    "def ham(a, b):# tự viết\n",
    "    return a**3 + a*b + b**3\n",
    "def daohama(a, b):# tự viết\n",
    "    return 3*a**2 + b\n",
    "def daohamb(a, b):# tự viết\n",
    "    return 3*b**2 + a\n",
    "def saisotuyetdoicuaham(a, delta_a, b, delta_b):\n",
    "    return daohama(a, b)*delta_a + daohamb(a, b)* delta_b\n",
    "def saisotuongdoicuaham(a, delta_a, b, delta_b):\n",
    "    return saisotuyetdoicuaham(a, delta_a, b, delta_b)/ham(a, b)\n",
    "\n",
    "saisotuyetdoicuaham(3.8071, 0.0063, 0.4495, 0.0008)"
   ]
  },
  {
   "cell_type": "code",
   "execution_count": 6,
   "id": "180e33a3",
   "metadata": {},
   "outputs": [
    {
     "data": {
      "text/plain": [
       "0.1085"
      ]
     },
     "execution_count": 6,
     "metadata": {},
     "output_type": "execute_result"
    }
   ],
   "source": [
    "def ham(a, b, c):# tự viết\n",
    "    return 2*a + b - 0.5*c\n",
    "def daohama(a, b, c):# tự viết\n",
    "    return 2\n",
    "def daohamb(a, b, c):# tự viết\n",
    "    return 1\n",
    "def daohamc(a, b, c):# tự viết\n",
    "    return 0.5\n",
    "def saisotuyetdoicuaham(a, delta_a, b, delta_b, c, delta_c):\n",
    "    return np.abs(daohama(a, b, c))*delta_a + np.abs(daohamb(a, b, c))* delta_b + np.abs(daohamc(a, b, c))* delta_c\n",
    "def saisotuongdoicuaham(a, delta_a, b, delta_b, c, delta_c):\n",
    "    return saisotuyetdoicuaham(a, delta_a, b, delta_b, c, delta_c)/ham(a, b, c)\n",
    "\n",
    "saisotuyetdoicuaham(0, 0.012, 0, 0.023, 0, 0.123)"
   ]
  },
  {
   "cell_type": "markdown",
   "id": "5fb9e955",
   "metadata": {},
   "source": [
    "# Chia đôi"
   ]
  },
  {
   "cell_type": "code",
   "execution_count": 21,
   "id": "b6b06e90",
   "metadata": {
    "scrolled": true
   },
   "outputs": [
    {
     "data": {
      "image/png": "[encoded data removed]",
      "text/plain": [
       "<Figure size 360x360 with 1 Axes>"
      ]
     },
     "metadata": {
      "needs_background": "light"
     },
     "output_type": "display_data"
    }
   ],
   "source": [
    "x = np.linspace(1,2, 100000)\n",
    "plt.figure(figsize=(5,5))\n",
    "y =  x**3 - 4*x**2 + 1\n",
    "z = 0*x\n",
    "plt.plot(x,y)\n",
    "plt.plot(x,z, color='black')\n",
    "# plt.plot(x,x)\n",
    "plt.grid()"
   ]
  },
  {
   "cell_type": "code",
   "execution_count": 13,
   "id": "2e4f5e81",
   "metadata": {},
   "outputs": [
    {
     "name": "stdout",
     "output_type": "stream",
     "text": [
      "a: 1.7, b: 1.8\n",
      "x: 1.75\n",
      "f(x) = -0.5869140625\n",
      "delta: 0.050000000000000044\n",
      "\n",
      "a: 1.75, b: 1.8\n",
      "x: 1.775\n",
      "f(x) = 0.619427255859371\n",
      "delta: 0.02499999999999991\n",
      "\n",
      "a: 1.75, b: 1.775\n",
      "x: 1.7625\n",
      "f(x) = 0.007701629943845489\n",
      "delta: 0.012499999999999956\n",
      "\n",
      "a: 1.75, b: 1.7625\n",
      "x: 1.75625\n",
      "f(x) = -0.2917222461605036\n",
      "delta: 0.006249999999999867\n",
      "\n",
      "a: 1.75625, b: 1.7625\n",
      "x: 1.759375\n",
      "f(x) = -0.14254214196116166\n",
      "delta: 0.0031250000000000444\n",
      "\n",
      "a: 1.759375, b: 1.7625\n",
      "x: 1.7609374999999998\n",
      "f(x) = -0.06755356886977282\n",
      "delta: 0.0015625000000001332\n",
      "\n"
     ]
    }
   ],
   "source": [
    "def f(x): # tự viết\n",
    "    return x**5 - 17\n",
    "\n",
    "a = 1.7\n",
    "b = 1.8\n",
    "n = 6\n",
    "epxilon = 0\n",
    "# Nếu bài toán cho trước n thì để epxilon = 0 và ngược lại\n",
    "\n",
    "chiadoi(f, a, b, n=n, epxilon=epxilon)"
   ]
  },
  {
   "cell_type": "markdown",
   "id": "2ca7a80d",
   "metadata": {},
   "source": [
    "# Dây cung"
   ]
  },
  {
   "cell_type": "code",
   "execution_count": 13,
   "id": "db8fdefd",
   "metadata": {},
   "outputs": [
    {
     "data": {
      "image/png": "[encoded data removed]",
      "text/plain": [
       "<Figure size 360x360 with 1 Axes>"
      ]
     },
     "metadata": {
      "needs_background": "light"
     },
     "output_type": "display_data"
    }
   ],
   "source": [
    "x = np.linspace(0,1, 100000)\n",
    "plt.figure(figsize=(5,5))\n",
    "y = x**3 - 4*x**2 + 1\n",
    "z = 0*x\n",
    "plt.plot(x,y)\n",
    "plt.plot(x,z, color='black')\n",
    "# plt.plot(x,x)\n",
    "plt.grid()"
   ]
  },
  {
   "cell_type": "code",
   "execution_count": 27,
   "id": "0ff55e8c",
   "metadata": {},
   "outputs": [
    {
     "name": "stdout",
     "output_type": "stream",
     "text": [
      "f(a) = -3,  f(b) = 5\n",
      "m1 = 1\n",
      "M1 = 9\n",
      "x0: 1\n",
      "d: 2\n",
      "\n",
      "x: 1.375\n",
      "xấp xỉ liên tiếp: 3.0\n",
      "delta_x: 1.025390625\n",
      "\n",
      "x: 1.4813614262560777\n",
      "xấp xỉ liên tiếp: 0.8508914100486216\n",
      "delta_x: 0.2678921375489649\n",
      "\n",
      "x: 1.5077361492966772\n",
      "xấp xỉ liên tiếp: 0.2109977843247961\n",
      "delta_x: 0.06477506393091037\n",
      "\n",
      "epxilon0: 0.0\n"
     ]
    }
   ],
   "source": [
    "def f(x): # tự viết\n",
    "    return x**3 + x - 5\n",
    "def daoham1(x): # tự viết\n",
    "    return 3*x**2 + x - 5\n",
    "\n",
    "a = 1\n",
    "b = 2\n",
    "n = 3\n",
    "epxilon = 0\n",
    "mode = 'delta_x'\n",
    "\n",
    "# Với bài toán cho sẵn epxilon cần truyền vào tham số mode:\n",
    "# mode = 'delta_x': tính sai số theo công thức sai số mục tiêu\n",
    "# mode = 'err': tính sai số theo xấp xỉ liên tiếp\n",
    "\n",
    "daycung(f, daoham1, a, b, n=n, epxilon=epxilon, mode=mode)"
   ]
  },
  {
   "cell_type": "markdown",
   "id": "e3f8fd60",
   "metadata": {},
   "source": [
    "# Tiếp tuyến"
   ]
  },
  {
   "cell_type": "code",
   "execution_count": 11,
   "id": "fecf92cb",
   "metadata": {
    "scrolled": true
   },
   "outputs": [
    {
     "data": {
      "image/png": "[encoded data removed]",
      "text/plain": [
       "<Figure size 360x360 with 1 Axes>"
      ]
     },
     "metadata": {
      "needs_background": "light"
     },
     "output_type": "display_data"
    }
   ],
   "source": [
    "x = np.linspace(-1,0, 100000)\n",
    "plt.figure(figsize=(5,5))\n",
    "y = x**3 - 4*np.log(x**2+1)+1\n",
    "z = 0*x\n",
    "plt.plot(x,y)\n",
    "plt.plot(x,z, color='black')\n",
    "plt.grid()"
   ]
  },
  {
   "cell_type": "code",
   "execution_count": 5,
   "id": "c6b100ef",
   "metadata": {},
   "outputs": [
    {
     "name": "stdout",
     "output_type": "stream",
     "text": [
      "f(a) = -0.5,  f(b) = 0.6408590857704775\n",
      "m1 = 0.6408590857704775\n",
      "M2 = 1.3591409142295225\n",
      "x0: 0\n",
      "\n",
      "x: 0.3333333333333333\n",
      "xấp xỉ liên tiếp: 0.11782282602348841\n",
      "delta x: 0.04859031660437549\n",
      "\n",
      "x: 0.35724647604398185\n",
      "xấp xỉ liên tiếp: 0.0006063805408062727\n",
      "delta x: 0.0003138226527766252\n",
      "\n",
      "x: 0.3574029493733072\n",
      "xấp xỉ liên tiếp: 2.5962863569383672e-08\n",
      "delta x: 1.3653089420328683e-08\n",
      "\n",
      "n = 3\n",
      "epxilon0: 0.0021714459806446242\n"
     ]
    }
   ],
   "source": [
    "def f(x): # tự viết\n",
    "    return 2*x - 0.5*np.exp(x)\n",
    "def daoham1(x): # tự viết\n",
    "    return 2-0.5*np.exp(x)\n",
    "def daoham2(x): # tự viết\n",
    "    return -0.5*np.exp(x)\n",
    "\n",
    "a = 0\n",
    "b = 1\n",
    "n = 0\n",
    "epxilon = 0.5*10**-5\n",
    "mode = 'delta_x'\n",
    "\n",
    "# Tương tự dây cung\n",
    "\n",
    "tieptuyen(f, daoham1, daoham2, a, b, n=n, epxilon=epxilon, mode=mode)"
   ]
  },
  {
   "cell_type": "markdown",
   "id": "dcc4928d",
   "metadata": {},
   "source": [
    "# Lặp đơn"
   ]
  },
  {
   "cell_type": "code",
   "execution_count": 14,
   "id": "912f1880",
   "metadata": {},
   "outputs": [
    {
     "data": {
      "image/png": "[encoded data removed]",
      "text/plain": [
       "<Figure size 360x360 with 1 Axes>"
      ]
     },
     "metadata": {
      "needs_background": "light"
     },
     "output_type": "display_data"
    }
   ],
   "source": [
    "x = np.linspace(0,0.5, 100000)\n",
    "plt.figure(figsize=(5,5))\n",
    "y =  x**4 - x**3*4+8*x-2\n",
    "z = 0*x\n",
    "plt.plot(x,y)\n",
    "plt.plot(x,z, color='black')\n",
    "# plt.plot(x,x)\n",
    "plt.grid()"
   ]
  },
  {
   "cell_type": "code",
   "execution_count": 9,
   "id": "035510ee",
   "metadata": {},
   "outputs": [
    {
     "data": {
      "image/png": "[encoded data removed]",
      "text/plain": [
       "<Figure size 360x360 with 1 Axes>"
      ]
     },
     "metadata": {
      "needs_background": "light"
     },
     "output_type": "display_data"
    }
   ],
   "source": [
    "x = np.linspace(-1,0, 100000)\n",
    "plt.figure(figsize=(5,5))\n",
    "y = 0.2*2**x-0.6\n",
    "plt.plot(x,y)\n",
    "plt.plot(x,x)\n",
    "plt.grid()"
   ]
  },
  {
   "cell_type": "code",
   "execution_count": 10,
   "id": "56c7d78e",
   "metadata": {},
   "outputs": [
    {
     "name": "stdout",
     "output_type": "stream",
     "text": [
      "q = 0.13862943611198905\n",
      "\n",
      "x: -0.5\n",
      "xấp xỉ liên tiếp: 0.08047026559988915\n",
      "\n",
      "x: -0.4585786437626904\n",
      "xấp xỉ liên tiếp: 0.0066663750758478545\n",
      "\n",
      "x: -0.4544594309898844\n",
      "xấp xỉ liên tiếp: 0.0006629482917803132\n",
      "\n",
      "x: -0.4540432867325624\n",
      "xấp xỉ liên tiếp: 6.69744778291406e-05\n",
      "\n",
      "x: -0.45400117956006236\n",
      "xấp xỉ liên tiếp: 6.776750709475157e-06\n",
      "\n",
      "x: -0.45399691830799105\n",
      "xấp xỉ liên tiếp: 6.858081719333776e-07\n",
      "\n",
      "x: -0.45399648706172246\n",
      "xấp xỉ liên tiếp: 6.940500354383769e-08\n",
      "\n",
      "x: -0.4539964434187641\n",
      "xấp xỉ liên tiếp: 7.023920901322256e-09\n",
      "\n",
      "x: -0.45399643900201136\n",
      "xấp xỉ liên tiếp: 7.108345323662476e-10\n",
      "\n",
      "x: -0.45399643855502736\n",
      "xấp xỉ liên tiếp: 7.193784326116239e-11\n",
      "\n",
      "n = 10\n",
      "epxilon0: 6.213475204444817e-10\n"
     ]
    }
   ],
   "source": [
    "def f(x): # tự viết\n",
    "    return x - 0.2*2**x+0.6\n",
    "def phi(x): # tự viết\n",
    "    return 0.2*2**x - 0.6\n",
    "def daohamphi(x): # tự viết\n",
    "    return 0.2*np.log(2)*2**x\n",
    "\n",
    "#q = max(phi')\n",
    "\n",
    "x0 = -1\n",
    "n = 0\n",
    "epxilon = 10**-10\n",
    "a = -1\n",
    "b = 0\n",
    "\n",
    "x = np.linspace(a, b, 1000000)\n",
    "q = np.max(np.abs(daohamphi(x))) \n",
    "lapdon(f, phi, x0, q, n=n, epxilon=epxilon)"
   ]
  },
  {
   "cell_type": "markdown",
   "id": "9fd69625",
   "metadata": {},
   "source": [
    "# Gauss"
   ]
  },
  {
   "cell_type": "code",
   "execution_count": 10,
   "id": "4380da9e",
   "metadata": {},
   "outputs": [
    {
     "name": "stdout",
     "output_type": "stream",
     "text": [
      "[[1.1  1.08 2.17]\n",
      " [1.09 1.09 2.18]] \n",
      "\n",
      "[[1.1        1.08       2.17      ]\n",
      " [0.         0.01981818 0.02972727]] \n",
      "\n",
      "[[1.1        1.08       2.17      ]\n",
      " [0.         0.01981818 0.02972727]] \n",
      "\n"
     ]
    },
    {
     "data": {
      "text/plain": [
       "array([[0.5],\n",
       "       [1.5]])"
      ]
     },
     "execution_count": 10,
     "metadata": {},
     "output_type": "execute_result"
    }
   ],
   "source": [
    "a = np.array([[1 + 1/10, 1 + 2/25, 2.17],\n",
    "              [1 + 9/100, 1 + 9/100, 2.18]])\n",
    "b = Gauss(a.astype(np.float))\n",
    "\n",
    "giai_Gauss(b)"
   ]
  },
  {
   "cell_type": "markdown",
   "id": "c6a8bf4f",
   "metadata": {},
   "source": [
    "# Gauss - Jordan"
   ]
  },
  {
   "cell_type": "code",
   "execution_count": 4,
   "id": "07df71b4",
   "metadata": {
    "collapsed": true
   },
   "outputs": [
    {
     "name": "stdout",
     "output_type": "stream",
     "text": [
      "[[ 1.  1. -3.  3.  6.]\n",
      " [ 4.  2.  1. -3.  8.]\n",
      " [ 2.  5.  2.  4.  6.]\n",
      " [-7.  4.  8.  3.  5.]] \n",
      "\n",
      "đã khử hàng:  []\n",
      "chọn phần tử khử: \n",
      "hàng: 2\n",
      "cột: 3\n",
      "[[ 13.   7.   0.  -6.  30.]\n",
      " [  4.   2.   1.  -3.   8.]\n",
      " [ -6.   1.   0.  10. -10.]\n",
      " [-39. -12.   0.  27. -59.]] \n",
      "\n"
     ]
    },
    {
     "ename": "KeyboardInterrupt",
     "evalue": "Interrupted by user",
     "output_type": "error",
     "traceback": [
      "\u001b[1;31m---------------------------------------------------------------------------\u001b[0m",
      "\u001b[1;31mKeyboardInterrupt\u001b[0m                         Traceback (most recent call last)",
      "\u001b[1;32m~\\AppData\\Local\\Temp/ipykernel_13544/2415297602.py\u001b[0m in \u001b[0;36m<module>\u001b[1;34m\u001b[0m\n\u001b[0;32m      3\u001b[0m               \u001b[1;33m[\u001b[0m\u001b[1;36m2\u001b[0m\u001b[1;33m,\u001b[0m\u001b[1;36m5\u001b[0m\u001b[1;33m,\u001b[0m\u001b[1;36m2\u001b[0m\u001b[1;33m,\u001b[0m\u001b[1;36m4\u001b[0m\u001b[1;33m,\u001b[0m\u001b[1;36m6\u001b[0m\u001b[1;33m]\u001b[0m\u001b[1;33m,\u001b[0m\u001b[1;33m\u001b[0m\u001b[1;33m\u001b[0m\u001b[0m\n\u001b[0;32m      4\u001b[0m               [-7, 4,8,3,5]])\n\u001b[1;32m----> 5\u001b[1;33m \u001b[0mmatrix\u001b[0m \u001b[1;33m=\u001b[0m \u001b[0mGauss_Jordan\u001b[0m\u001b[1;33m(\u001b[0m\u001b[0ma\u001b[0m\u001b[1;33m.\u001b[0m\u001b[0mastype\u001b[0m\u001b[1;33m(\u001b[0m\u001b[0mnp\u001b[0m\u001b[1;33m.\u001b[0m\u001b[0mfloat\u001b[0m\u001b[1;33m)\u001b[0m\u001b[1;33m)\u001b[0m\u001b[1;33m\u001b[0m\u001b[1;33m\u001b[0m\u001b[0m\n\u001b[0m\u001b[0;32m      6\u001b[0m \u001b[0mgiai_GaussJordan\u001b[0m\u001b[1;33m(\u001b[0m\u001b[0mmatrix\u001b[0m\u001b[1;33m)\u001b[0m\u001b[1;33m\u001b[0m\u001b[1;33m\u001b[0m\u001b[0m\n",
      "\u001b[1;32mD:\\HUSTer Junior\\20201\\Phương pháp tính\\code\\full_code.py\u001b[0m in \u001b[0;36mGauss_Jordan\u001b[1;34m(a)\u001b[0m\n\u001b[0;32m    223\u001b[0m         \u001b[1;32mif\u001b[0m \u001b[0mlen\u001b[0m\u001b[1;33m(\u001b[0m\u001b[0mind\u001b[0m\u001b[1;33m)\u001b[0m \u001b[1;33m==\u001b[0m \u001b[0mlen\u001b[0m\u001b[1;33m(\u001b[0m\u001b[0ma\u001b[0m\u001b[1;33m)\u001b[0m \u001b[1;33m-\u001b[0m \u001b[1;36m1\u001b[0m\u001b[1;33m:\u001b[0m\u001b[1;33m\u001b[0m\u001b[1;33m\u001b[0m\u001b[0m\n\u001b[0;32m    224\u001b[0m             \u001b[1;32mbreak\u001b[0m\u001b[1;33m\u001b[0m\u001b[1;33m\u001b[0m\u001b[0m\n\u001b[1;32m--> 225\u001b[1;33m         \u001b[0mselect\u001b[0m \u001b[1;33m=\u001b[0m \u001b[0minput\u001b[0m\u001b[1;33m(\u001b[0m\u001b[1;34m\"khử tiếp không (y/n)?\"\u001b[0m\u001b[1;33m)\u001b[0m\u001b[1;33m\u001b[0m\u001b[1;33m\u001b[0m\u001b[0m\n\u001b[0m\u001b[0;32m    226\u001b[0m         \u001b[1;32mif\u001b[0m \u001b[0mselect\u001b[0m \u001b[1;33m==\u001b[0m \u001b[1;34m'n'\u001b[0m\u001b[1;33m:\u001b[0m\u001b[1;33m\u001b[0m\u001b[1;33m\u001b[0m\u001b[0m\n\u001b[0;32m    227\u001b[0m             \u001b[1;32mbreak\u001b[0m\u001b[1;33m\u001b[0m\u001b[1;33m\u001b[0m\u001b[0m\n",
      "\u001b[1;32m~\\anaconda3\\envs\\superEnv\\lib\\site-packages\\ipykernel\\kernelbase.py\u001b[0m in \u001b[0;36mraw_input\u001b[1;34m(self, prompt)\u001b[0m\n\u001b[0;32m   1004\u001b[0m                 \u001b[1;34m\"raw_input was called, but this frontend does not support input requests.\"\u001b[0m\u001b[1;33m\u001b[0m\u001b[1;33m\u001b[0m\u001b[0m\n\u001b[0;32m   1005\u001b[0m             )\n\u001b[1;32m-> 1006\u001b[1;33m         return self._input_request(\n\u001b[0m\u001b[0;32m   1007\u001b[0m             \u001b[0mstr\u001b[0m\u001b[1;33m(\u001b[0m\u001b[0mprompt\u001b[0m\u001b[1;33m)\u001b[0m\u001b[1;33m,\u001b[0m\u001b[1;33m\u001b[0m\u001b[1;33m\u001b[0m\u001b[0m\n\u001b[0;32m   1008\u001b[0m             \u001b[0mself\u001b[0m\u001b[1;33m.\u001b[0m\u001b[0m_parent_ident\u001b[0m\u001b[1;33m[\u001b[0m\u001b[1;34m\"shell\"\u001b[0m\u001b[1;33m]\u001b[0m\u001b[1;33m,\u001b[0m\u001b[1;33m\u001b[0m\u001b[1;33m\u001b[0m\u001b[0m\n",
      "\u001b[1;32m~\\anaconda3\\envs\\superEnv\\lib\\site-packages\\ipykernel\\kernelbase.py\u001b[0m in \u001b[0;36m_input_request\u001b[1;34m(self, prompt, ident, parent, password)\u001b[0m\n\u001b[0;32m   1049\u001b[0m             \u001b[1;32mexcept\u001b[0m \u001b[0mKeyboardInterrupt\u001b[0m\u001b[1;33m:\u001b[0m\u001b[1;33m\u001b[0m\u001b[1;33m\u001b[0m\u001b[0m\n\u001b[0;32m   1050\u001b[0m                 \u001b[1;31m# re-raise KeyboardInterrupt, to truncate traceback\u001b[0m\u001b[1;33m\u001b[0m\u001b[1;33m\u001b[0m\u001b[1;33m\u001b[0m\u001b[0m\n\u001b[1;32m-> 1051\u001b[1;33m                 \u001b[1;32mraise\u001b[0m \u001b[0mKeyboardInterrupt\u001b[0m\u001b[1;33m(\u001b[0m\u001b[1;34m\"Interrupted by user\"\u001b[0m\u001b[1;33m)\u001b[0m \u001b[1;32mfrom\u001b[0m \u001b[1;32mNone\u001b[0m\u001b[1;33m\u001b[0m\u001b[1;33m\u001b[0m\u001b[0m\n\u001b[0m\u001b[0;32m   1052\u001b[0m             \u001b[1;32mexcept\u001b[0m \u001b[0mException\u001b[0m\u001b[1;33m:\u001b[0m\u001b[1;33m\u001b[0m\u001b[1;33m\u001b[0m\u001b[0m\n\u001b[0;32m   1053\u001b[0m                 \u001b[0mself\u001b[0m\u001b[1;33m.\u001b[0m\u001b[0mlog\u001b[0m\u001b[1;33m.\u001b[0m\u001b[0mwarning\u001b[0m\u001b[1;33m(\u001b[0m\u001b[1;34m\"Invalid Message:\"\u001b[0m\u001b[1;33m,\u001b[0m \u001b[0mexc_info\u001b[0m\u001b[1;33m=\u001b[0m\u001b[1;32mTrue\u001b[0m\u001b[1;33m)\u001b[0m\u001b[1;33m\u001b[0m\u001b[1;33m\u001b[0m\u001b[0m\n",
      "\u001b[1;31mKeyboardInterrupt\u001b[0m: Interrupted by user"
     ]
    }
   ],
   "source": [
    "a = np.array([[1,1,-3,3,6],\n",
    "              [4,2,1,-3,8],\n",
    "              [2,5,2,4,6],\n",
    "              [-7, 4,8,3,5]])\n",
    "matrix = Gauss_Jordan(a.astype(np.float))\n",
    "giai_GaussJordan(matrix)"
   ]
  },
  {
   "cell_type": "markdown",
   "id": "455fd110",
   "metadata": {},
   "source": [
    "# Chuẩn của ma trận"
   ]
  },
  {
   "cell_type": "code",
   "execution_count": 2,
   "id": "ecc06648",
   "metadata": {},
   "outputs": [
    {
     "name": "stdout",
     "output_type": "stream",
     "text": [
      "chuẩn hàng: 16\n",
      "chuẩn cột: 13\n",
      "chuẩn Euclide: 12.36931687685298\n",
      "chuẩn 2: 10.514399292182995\n"
     ]
    }
   ],
   "source": [
    "a = np.array([[2,-1,4],\n",
    "              [5,3,2],\n",
    "              [6,-7,3]])\n",
    "print(f'chuẩn hàng: {chuanvocung(a)}')\n",
    "print(f'chuẩn cột: {chuan1(a)}')\n",
    "print(f'chuẩn Euclide: {chuanEuclid(a)}')\n",
    "print(f'chuẩn 2: {chuan2(a)}')"
   ]
  },
  {
   "cell_type": "markdown",
   "id": "ece220ed",
   "metadata": {},
   "source": [
    "# Lặp đơn"
   ]
  },
  {
   "cell_type": "code",
   "execution_count": 10,
   "id": "7444c47b",
   "metadata": {},
   "outputs": [
    {
     "name": "stdout",
     "output_type": "stream",
     "text": [
      "B = \n",
      "[[0.2 0.3 0.1]\n",
      " [0.4 0.1 0.1]\n",
      " [0.1 0.5 0.2]]\n",
      "\n",
      "d = \n",
      "[5.2 4.7 6.5]\n",
      "\n",
      "q = 0.8\n",
      "\n",
      "X =\n",
      " [[13.7]\n",
      " [13.4]\n",
      " [18. ]]\n",
      "xấp xỉ liên tiếp: 1.600000000000009\n",
      "Sai số tiên nghiệm: 1.600000000000009\n",
      "\n",
      "X =\n",
      " [[13.76]\n",
      " [13.32]\n",
      " [18.17]]\n",
      "xấp xỉ liên tiếp: 0.680000000000007\n",
      "Sai số tiên nghiệm: 1.2800000000000074\n",
      "\n",
      "X =\n",
      " [[13.765]\n",
      " [13.353]\n",
      " [18.17 ]]\n",
      "xấp xỉ liên tiếp: 0.13200000000000503\n",
      "Sai số tiên nghiệm: 1.024000000000006\n",
      "\n"
     ]
    }
   ],
   "source": [
    "#B, d là ma trận trong công thức lặp\n",
    "\n",
    "B = np.array([[0.2,0.3,0.1],\n",
    "              [0.4,0.1,0.1],\n",
    "              [0.1,0.5,0.2]])\n",
    "\n",
    "d = np.array([5.2,4.7,6.5])\n",
    "\n",
    "X0 = np.array([14,13,18])\n",
    "n = 3\n",
    "epxilon = 0\n",
    "\n",
    "# Nếu B, d là ma trận hệ số của hệ phương trình thì bỏ comment (bôi đen và ctrl + /) đoạn code dưới đây:\n",
    "\n",
    "# for i in range(len(B)):\n",
    "#     d[i] = d[i] / B[i,i]\n",
    "#     B[i] = B[i] / B[i,i]\n",
    "#     B[i] *= -1\n",
    "#     B[i, i] = 0 \n",
    "\n",
    "print(f'B = \\n{B}\\n')\n",
    "print(f'd = \\n{d}\\n')\n",
    "\n",
    "q = chuanvocung(B)\n",
    "\n",
    "lapdon_matrix(B.astype(np.float), d.astype(np.float), X0, q, n=n, epxilon=epxilon)"
   ]
  },
  {
   "cell_type": "markdown",
   "id": "634ebd1e",
   "metadata": {},
   "source": [
    "# Lặp Jacobi"
   ]
  },
  {
   "cell_type": "code",
   "execution_count": 9,
   "id": "1a9c871e",
   "metadata": {},
   "outputs": [
    {
     "name": "stdout",
     "output_type": "stream",
     "text": [
      "chéo trội hàng\n",
      "B = \n",
      "[[ 0.          0.03333333  0.06666667]\n",
      " [-0.01428571  0.          0.04285714]\n",
      " [-0.03        0.02        0.        ]]\n",
      "d = \n",
      "[[2.61666667]\n",
      " [2.75714286]\n",
      " [7.14      ]]\n",
      "\n",
      "q = 0.1\n",
      "\n",
      "X =\n",
      " [[3.18457143]\n",
      " [3.0257619 ]\n",
      " [7.11664286]]\n",
      "xấp xỉ liên tiếp: 0.0631005291005291\n",
      "Sai số tiên nghiệm: 0.0631005291005291\n",
      "\n",
      "X =\n",
      " [[3.19196825]\n",
      " [3.01664796]\n",
      " [7.1049781 ]]\n",
      "xấp xỉ liên tiếp: 0.001296084656084674\n",
      "Sai số tiên nghiệm: 0.006310052910052911\n",
      "\n",
      "X =\n",
      " [[3.1908868 ]\n",
      " [3.01604237]\n",
      " [7.10457391]]\n",
      "xấp xỉ liên tiếp: 0.00012016099773242633\n",
      "Sai số tiên nghiệm: 0.0006310052910052912\n",
      "\n"
     ]
    }
   ],
   "source": [
    "# B là ma trận hệ số của hệ phương trình\n",
    "\n",
    "B = np.array([[3,-0.1,-0.2],\n",
    "              [0.1,7,-0.3],\n",
    "              [0.3,-0.2,10]])\n",
    "d = np.array([7.85,19.3,71.4])\n",
    "X0 = np.array([157/60, 193/70, 7.14])\n",
    "n = 3\n",
    "epxilon = 0\n",
    "\n",
    "lapJacobi(B.astype(np.float), d.astype(np.float), X0, n=n, epxilon=epxilon)"
   ]
  },
  {
   "cell_type": "markdown",
   "id": "e598b0f4",
   "metadata": {},
   "source": [
    "# Hoocner"
   ]
  },
  {
   "cell_type": "code",
   "execution_count": 2,
   "id": "f1cc2243",
   "metadata": {
    "scrolled": false
   },
   "outputs": [
    {
     "data": {
      "image/png": "[encoded data removed]",
      "text/plain": [
       "<Figure size 720x360 with 1 Axes>"
      ]
     },
     "metadata": {
      "needs_background": "light"
     },
     "output_type": "display_data"
    }
   ],
   "source": [
    "x = np.linspace(-1,1, 100000)\n",
    "plt.figure(figsize=(10,5))\n",
    "y =  1/(25*(x**2) +1)\n",
    "z = 0*x\n",
    "plt.plot(x,y)\n",
    "plt.plot(x,z, color='black')\n",
    "\n",
    "# plt.plot(x,x)\n",
    "plt.grid()"
   ]
  },
  {
   "cell_type": "markdown",
   "id": "e3c888db",
   "metadata": {},
   "source": [
    "### Sơ đồ chia"
   ]
  },
  {
   "cell_type": "code",
   "execution_count": 3,
   "id": "514427c3",
   "metadata": {},
   "outputs": [
    {
     "data": {
      "text/html": [
       "<div>\n",
       "<style scoped>\n",
       "    .dataframe tbody tr th:only-of-type {\n",
       "        vertical-align: middle;\n",
       "    }\n",
       "\n",
       "    .dataframe tbody tr th {\n",
       "        vertical-align: top;\n",
       "    }\n",
       "\n",
       "    .dataframe thead th {\n",
       "        text-align: right;\n",
       "    }\n",
       "</style>\n",
       "<table border=\"1\" class=\"dataframe\">\n",
       "  <thead>\n",
       "    <tr style=\"text-align: right;\">\n",
       "      <th></th>\n",
       "      <th>4</th>\n",
       "      <th>3</th>\n",
       "      <th>2</th>\n",
       "      <th>1</th>\n",
       "      <th>0</th>\n",
       "    </tr>\n",
       "  </thead>\n",
       "  <tbody>\n",
       "    <tr>\n",
       "      <th>0.0</th>\n",
       "      <td>4.0</td>\n",
       "      <td>5.0</td>\n",
       "      <td>-1.0</td>\n",
       "      <td>3.0</td>\n",
       "      <td>6.0</td>\n",
       "    </tr>\n",
       "    <tr>\n",
       "      <th>2.0</th>\n",
       "      <td>4.0</td>\n",
       "      <td>13.0</td>\n",
       "      <td>25.0</td>\n",
       "      <td>53.0</td>\n",
       "      <td>112.0</td>\n",
       "    </tr>\n",
       "  </tbody>\n",
       "</table>\n",
       "</div>"
      ],
      "text/plain": [
       "       4     3     2     1      0\n",
       "0.0  4.0   5.0  -1.0   3.0    6.0\n",
       "2.0  4.0  13.0  25.0  53.0  112.0"
      ]
     },
     "execution_count": 3,
     "metadata": {},
     "output_type": "execute_result"
    }
   ],
   "source": [
    "# chia đa thức (7x^6 - 8x^5 + 7x^3 +18x^2 - 9x - 20) cho (x - 2)\n",
    "\n",
    "a = np.array([[4,5,-1,3,6]])\n",
    "b = np.array([[2]])\n",
    "\n",
    "pd.DataFrame(hoocner(a,b)[:,1:], index=hoocner(a,b)[:,0], columns=[i for i in range(len(a[0])-1,-1,-1)])"
   ]
  },
  {
   "cell_type": "markdown",
   "id": "8112f947",
   "metadata": {},
   "source": [
    "### Sơ đồ nhân"
   ]
  },
  {
   "cell_type": "code",
   "execution_count": 2,
   "id": "61d2f187",
   "metadata": {
    "scrolled": true
   },
   "outputs": [
    {
     "data": {
      "text/html": [
       "<div>\n",
       "<style scoped>\n",
       "    .dataframe tbody tr th:only-of-type {\n",
       "        vertical-align: middle;\n",
       "    }\n",
       "\n",
       "    .dataframe tbody tr th {\n",
       "        vertical-align: top;\n",
       "    }\n",
       "\n",
       "    .dataframe thead th {\n",
       "        text-align: right;\n",
       "    }\n",
       "</style>\n",
       "<table border=\"1\" class=\"dataframe\">\n",
       "  <thead>\n",
       "    <tr style=\"text-align: right;\">\n",
       "      <th></th>\n",
       "      <th>4</th>\n",
       "      <th>3</th>\n",
       "      <th>2</th>\n",
       "      <th>1</th>\n",
       "      <th>0</th>\n",
       "    </tr>\n",
       "  </thead>\n",
       "  <tbody>\n",
       "    <tr>\n",
       "      <th>1</th>\n",
       "      <td>0.0</td>\n",
       "      <td>0.0</td>\n",
       "      <td>0.0</td>\n",
       "      <td>1.0</td>\n",
       "      <td>-1.0</td>\n",
       "    </tr>\n",
       "    <tr>\n",
       "      <th>2</th>\n",
       "      <td>0.0</td>\n",
       "      <td>0.0</td>\n",
       "      <td>1.0</td>\n",
       "      <td>-3.0</td>\n",
       "      <td>2.0</td>\n",
       "    </tr>\n",
       "    <tr>\n",
       "      <th>3</th>\n",
       "      <td>0.0</td>\n",
       "      <td>1.0</td>\n",
       "      <td>-6.0</td>\n",
       "      <td>11.0</td>\n",
       "      <td>-6.0</td>\n",
       "    </tr>\n",
       "    <tr>\n",
       "      <th>-5</th>\n",
       "      <td>1.0</td>\n",
       "      <td>-1.0</td>\n",
       "      <td>-19.0</td>\n",
       "      <td>49.0</td>\n",
       "      <td>-30.0</td>\n",
       "    </tr>\n",
       "  </tbody>\n",
       "</table>\n",
       "</div>"
      ],
      "text/plain": [
       "      4    3     2     1     0\n",
       " 1  0.0  0.0   0.0   1.0  -1.0\n",
       " 2  0.0  0.0   1.0  -3.0   2.0\n",
       " 3  0.0  1.0  -6.0  11.0  -6.0\n",
       "-5  1.0 -1.0 -19.0  49.0 -30.0"
      ]
     },
     "execution_count": 2,
     "metadata": {},
     "output_type": "execute_result"
    }
   ],
   "source": [
    "# nhân (x - 1)(x - 3)(x - 5)(x - 7)\n",
    "\n",
    "a = np.array([[1,2,3,-5]])\n",
    "\n",
    "pd.DataFrame(hoocnenguoc(a), index=a[0], columns=[i for i in range(len(a[0]),-1,-1)])"
   ]
  },
  {
   "cell_type": "markdown",
   "id": "d59837cd",
   "metadata": {},
   "source": [
    "# Nội suy Lagrange"
   ]
  },
  {
   "cell_type": "code",
   "execution_count": 7,
   "id": "f755438e",
   "metadata": {},
   "outputs": [
    {
     "name": "stdout",
     "output_type": "stream",
     "text": [
      "\n",
      "Sơ đồ nhân:\n",
      "        4     3      2      1     0\n",
      "2.0  0.0   0.0   0.00   1.00  -2.0\n",
      "2.5  0.0   0.0   1.00  -4.50   5.0\n",
      "3.0  0.0   1.0  -7.50  18.50 -15.0\n",
      "3.5  1.0 -11.0  44.75 -79.75  52.5 \n",
      "\n",
      "Sơ đồ chia:\n",
      "       1.00   -11.00   44.75  -79.75   52.50\n",
      "2.0     1.0    -9.0   26.75  -26.25     0.0\n",
      "2.5     1.0    -8.5   23.50  -21.00     0.0\n",
      "3.0     1.0    -8.0   20.75  -17.50     0.0\n",
      "3.5     1.0    -7.5   18.50  -15.00     0.0\n",
      "\n",
      "Di:\n",
      "      0    1    2    3     4\n",
      "0  1.0 -0.5 -1.0 -1.5 -0.75\n",
      "1  0.5  1.0 -0.5 -1.0  0.25\n",
      "2  1.0  0.5  1.0 -0.5 -0.25\n",
      "3  1.5  1.0  0.5  1.0  0.75\n",
      "\n",
      "Y/Di =\n",
      " [[ -9.2124   32.39388 -36.56448  13.9896 ]]\n",
      "\n",
      "Hệ số đa thức Lagrange cơ bản\n",
      "             3     2          1     0\n",
      "2.0 -1.333333  12.0 -35.666667  35.0\n",
      "2.5  4.000000 -34.0  94.000000 -84.0\n",
      "3.0 -4.000000  32.0 -83.000000  70.0\n",
      "3.5  1.333333 -10.0  24.666667 -20.0\n",
      "\n",
      "Hệ số đa thức P tìm được:\n",
      "         3        2         1        0\n",
      "0  0.6066 -4.84254  14.91912 -8.41158\n",
      "\n",
      "Tính P tại x = [2.5]\n",
      "           3        2         1        0\n",
      "0.0  0.6066 -4.84254  14.91912 -8.41158\n",
      "2.5  0.6066 -3.32604   6.60402  8.09847\n",
      "\n",
      "8.098470000000006\n"
     ]
    }
   ],
   "source": [
    "# somoc = int(input(\"Số mốc nội suy: \"))\n",
    "# X = nhapX()\n",
    "# Y = nhapY()\n",
    "\n",
    "X = np.array([[2,2.5,3,3.5]])\n",
    "Y = np.array([[6.90930, 8.09847, 9.14112, 10.4922]])\n",
    "b = np.array([[2.5]])\n",
    "\n",
    "NoisuyLG(X, Y, b)"
   ]
  },
  {
   "cell_type": "markdown",
   "id": "54c32661",
   "metadata": {},
   "source": [
    "# Nội suy Newton"
   ]
  },
  {
   "cell_type": "markdown",
   "id": "5d206e3a",
   "metadata": {},
   "source": [
    "### Newton tiến"
   ]
  },
  {
   "cell_type": "code",
   "execution_count": 2,
   "id": "1f81b388",
   "metadata": {},
   "outputs": [
    {
     "name": "stdout",
     "output_type": "stream",
     "text": [
      "\n",
      "Bảng tỷ sai phân:\n",
      "            0         1         2          3          4\n",
      "1.35  0.1465  0.000000  0.000000   0.000000   0.000000\n",
      "1.57  0.1580  0.052273  0.000000   0.000000   0.000000\n",
      "1.62  0.0710 -1.740000 -6.638047   0.000000   0.000000\n",
      "1.84 -0.4110 -2.190909 -1.670034  10.138803   0.000000\n",
      "2.15 -1.4620 -3.390323 -2.263044  -1.022432 -13.951544\n",
      "\n",
      "Bảng nhân:\n",
      "         4     3        2          1         0\n",
      "0.00  0.0  0.00   0.0000   0.000000  1.000000\n",
      "1.35  0.0  0.00   0.0000   1.000000 -1.350000\n",
      "1.57  0.0  0.00   1.0000  -2.920000  2.119500\n",
      "1.62  0.0  1.00  -4.5400   6.849900 -3.433590\n",
      "1.84  1.0 -6.38  15.2035 -16.037406  6.317806\n",
      "\n",
      "Hệ số đa thức P tìm được:\n",
      "            4          3           2           1           0\n",
      "0 -13.951544  99.149653 -264.780511  312.631731 -136.949044\n",
      "\n",
      "Tính P tại x = [2.5]\n",
      "              4          3           2           1           0\n",
      "0.0 -13.951544  99.149653 -264.780511  312.631731 -136.949044\n",
      "2.5 -13.951544  64.270793 -104.103527   52.372913   -6.016761\n",
      "\n",
      "-6.016761112143996\n"
     ]
    }
   ],
   "source": [
    "X = np.array([[1.35, 1.57, 1.62, 1.84, 2.15]])\n",
    "Y = np.array([[0.1465, 0.158, 0.071, -0.411, -1.462]])\n",
    "b = np.array([[2.5]])\n",
    "\n",
    "NoisuyNewtonTien(X,Y,b)"
   ]
  },
  {
   "cell_type": "markdown",
   "id": "3f0dad90",
   "metadata": {},
   "source": [
    "### Newton lùi"
   ]
  },
  {
   "cell_type": "code",
   "execution_count": 32,
   "id": "f85aedba",
   "metadata": {},
   "outputs": [
    {
     "name": "stdout",
     "output_type": "stream",
     "text": [
      "\n",
      "Bảng tỷ sai phân:\n",
      "              0        1         2\n",
      "-2.0 -10.50049  0.00000  0.000000\n",
      "-1.0 -11.47159 -0.97110  0.000000\n",
      " 0.0 -11.53912 -0.06753  0.451785\n",
      "\n",
      "Bảng nhân:\n",
      "         2    1    0\n",
      " 0.0  0.0  0.0  1.0\n",
      " 0.0  0.0  1.0  0.0\n",
      "-1.0  1.0  1.0  0.0\n",
      "\n",
      "Hệ số đa thức P tìm được:\n",
      "           2         1         0\n",
      "0  0.451785  0.384255 -11.53912\n",
      "\n",
      "Tính P tại x = [1.2]\n",
      "             2         1          0\n",
      "0.0  0.451785  0.384255 -11.539120\n",
      "1.2  0.451785  0.926397 -10.427444\n",
      "\n",
      "-10.427443599999997\n"
     ]
    }
   ],
   "source": [
    "X = np.array([[-2, -1, 0]])\n",
    "Y = np.array([[-10.50049, -11.47159, -11.53912]])\n",
    "b = np.array([[1.2]])\n",
    "\n",
    "NoisuyNewtonLui(X,Y,b)"
   ]
  },
  {
   "cell_type": "markdown",
   "id": "81b195d3",
   "metadata": {},
   "source": [
    "### Newton cách đều tiến"
   ]
  },
  {
   "cell_type": "code",
   "execution_count": 10,
   "id": "b1e65d8f",
   "metadata": {},
   "outputs": [
    {
     "name": "stdout",
     "output_type": "stream",
     "text": [
      "\n",
      "h = 0.10000000000000003\n",
      "\n",
      "Bảng sai phân:\n",
      "        0    1    2    3    4\n",
      "1.7  2.0  0.0  0.0  0.0  0.0\n",
      "1.8  1.7 -0.3  0.0  0.0  0.0\n",
      "1.9  2.2  0.5  0.8  0.0  0.0\n",
      "2.0  2.6  0.4 -0.1 -0.9  0.0\n",
      "2.1  3.0  0.4  0.0  0.1  1.0\n",
      "\n",
      "Bảng nhân:\n",
      "        4    3     2    1    0\n",
      "0.0  0.0  0.0   0.0  0.0  1.0\n",
      "0.0  0.0  0.0   0.0  1.0 -0.0\n",
      "1.0  0.0  0.0   1.0 -1.0  0.0\n",
      "2.0  0.0  1.0  -3.0  2.0  0.0\n",
      "3.0  1.0 -6.0  11.0 -6.0  0.0\n",
      "\n",
      "Sau khi chia giai thừa:\n",
      "      0    1    2     3         4\n",
      "0  2.0 -0.3  0.4 -0.15  0.041667\n",
      "\n",
      "Hệ số đa thức Pn(t):\n",
      "           4    3         2     1    0\n",
      "0  0.041667 -0.4  1.308333 -1.25  2.0\n",
      "\n",
      "t = [19983.]\n",
      "\n",
      "\n",
      "Tính P tại t = [19983.]\n",
      "                 4        3             2             1             0\n",
      "0.0      0.041667   -0.400  1.308333e+00 -1.250000e+00  2.000000e+00\n",
      "19983.0  0.041667  832.225  1.663035e+07  3.323244e+11  6.640838e+15\n",
      "\n",
      "6640837559111843.0\n"
     ]
    }
   ],
   "source": [
    "somoc = 5\n",
    "x0 = 1.7\n",
    "xn = 2.1\n",
    "b = np.array([[2000]])\n",
    "\n",
    "X = np.linspace(x0, xn, somoc).reshape(1,-1)\n",
    "Y = np.array([[2,1.7,2.2,2.6,3]])\n",
    "\n",
    "NoisuyNTcachdeuTien(X, Y, b)"
   ]
  },
  {
   "cell_type": "markdown",
   "id": "6f81ddc7",
   "metadata": {},
   "source": [
    "### Newton cách đều lùi"
   ]
  },
  {
   "cell_type": "code",
   "execution_count": 6,
   "id": "1ccd430d",
   "metadata": {
    "collapsed": true
   },
   "outputs": [
    {
     "name": "stdout",
     "output_type": "stream",
     "text": [
      "\n",
      "h = 10.0\n",
      "\n",
      "Bảng sai phân:\n",
      "              0      1      2      3      4      5      6      7\n",
      "1920.0  106.46   0.00   0.00   0.00   0.00   0.00   0.00   0.00\n",
      "1930.0  123.08  16.62   0.00   0.00   0.00   0.00   0.00   0.00\n",
      "1940.0  132.12   9.04  -7.58   0.00   0.00   0.00   0.00   0.00\n",
      "1950.0  152.27  20.15  11.11  18.69   0.00   0.00   0.00   0.00\n",
      "1960.0  180.67  28.40   8.25  -2.86 -21.55   0.00   0.00   0.00\n",
      "1970.0  205.05  24.38  -4.02 -12.27  -9.41  12.14   0.00   0.00\n",
      "1980.0  227.23  22.18  -2.20   1.82  14.09  23.50  11.36   0.00\n",
      "1990.0  249.46  22.23   0.05   2.25   0.43 -13.66 -37.16 -48.52\n",
      "\n",
      "Bảng nhân:\n",
      "         7     6      5      4       3       2      1    0\n",
      " 0.0  0.0   0.0    0.0    0.0     0.0     0.0    0.0  1.0\n",
      "-0.0  0.0   0.0    0.0    0.0     0.0     0.0    1.0  0.0\n",
      "-1.0  0.0   0.0    0.0    0.0     0.0     1.0    1.0  0.0\n",
      "-2.0  0.0   0.0    0.0    0.0     1.0     3.0    2.0  0.0\n",
      "-3.0  0.0   0.0    0.0    1.0     6.0    11.0    6.0  0.0\n",
      "-4.0  0.0   0.0    1.0   10.0    35.0    50.0   24.0  0.0\n",
      "-5.0  0.0   1.0   15.0   85.0   225.0   274.0  120.0  0.0\n",
      "-6.0  1.0  21.0  175.0  735.0  1624.0  1764.0  720.0  0.0\n",
      "\n",
      "Sau khi chia giai thừa:\n",
      "         0      1      2      3         4         5         6         7\n",
      "0  249.46  22.23  0.025  0.375  0.017917 -0.113833 -0.051611 -0.009627\n",
      "\n",
      "Hệ số đa thức Pn(t):\n",
      "           7         6         5          4          3          2         1  \\\n",
      "0 -0.009627 -0.253778 -2.572722 -12.583194 -30.748389 -35.468028  7.255738   \n",
      "\n",
      "        0  \n",
      "0  249.46  \n",
      "\n",
      "t = [1.]\n",
      "\n",
      "\n",
      "Tính P tại t = [1.]\n",
      "             7         6         5          4          3          2          1  \\\n",
      "0.0 -0.009627 -0.253778 -2.572722 -12.583194 -30.748389 -35.468028   7.255738   \n",
      "1.0 -0.009627 -0.263405 -2.836127 -15.419321 -46.167710 -81.635738 -74.380000   \n",
      "\n",
      "          0  \n",
      "0.0  249.46  \n",
      "1.0  175.08  \n",
      "\n",
      "175.0800000000023\n"
     ]
    }
   ],
   "source": [
    "somoc = 8\n",
    "x0 = 1920\n",
    "xn = 1990\n",
    "\n",
    "X = np.linspace(x0, xn, somoc).reshape(1,-1)\n",
    "Y = np.array([[106.46, 123.08, 132.12, 152.27, 180.67, 205.05, 227.23, 249.46]])\n",
    "b = np.array([[2000]])\n",
    "\n",
    "NoisuyNTcachdeuLui(X, Y, b)"
   ]
  },
  {
   "cell_type": "markdown",
   "id": "7ee81f10",
   "metadata": {},
   "source": [
    "# Bình phương tối thiểu"
   ]
  },
  {
   "cell_type": "code",
   "execution_count": 9,
   "id": "61a31cde",
   "metadata": {
    "collapsed": true
   },
   "outputs": [
    {
     "name": "stdout",
     "output_type": "stream",
     "text": [
      "Phi(x):\n",
      "          0    1    2    3    4\n",
      "phi_1  0.5  1.5  2.5  3.0  4.0\n",
      "\n",
      "Bộ hệ số:\n",
      " [[33.75]]\n",
      "\n",
      "Hệ số tự do: \n",
      " [[nan]]\n",
      "\n",
      "Nghiệm của hệ: \n",
      " [[nan]]\n"
     ]
    },
    {
     "name": "stderr",
     "output_type": "stream",
     "text": [
      "<ipython-input-9-3e7ed37236e1>:8: RuntimeWarning: invalid value encountered in log\n",
      "  f = x*np.log(-y) # tự viết\n"
     ]
    }
   ],
   "source": [
    "x = np.array([[0.5, 1.5, 2.5, 3, 4]])\n",
    "y = np.array([[0.45, 0.6, 0.7, 1.88, 6]])\n",
    "\n",
    "phi1_x = x.copy() # Nếu cần một mảng giống x thì cần thêm \".copy()\" để không ảnh hưởng đến ô nhớ chứa x\n",
    "phi2_x = x**3 # tự viết\n",
    "phi3_x = np.ones((1,5)) # tự viết\n",
    "\n",
    "f = x*np.log(-y) # tự viết\n",
    "\n",
    "# Nếu chỉ có phi1 và phi2 thì xóa phi3 đi :D\n",
    "phi_x = np.concatenate([phi1_x, phi2_x, phi3_x])\n",
    "\n",
    "\n",
    "\n",
    "Binhphuongtoithieu(x, f, phi1_x)"
   ]
  },
  {
   "cell_type": "markdown",
   "id": "7516cf5a",
   "metadata": {},
   "source": [
    "# Tính gần đúng tích phân"
   ]
  },
  {
   "cell_type": "markdown",
   "id": "c585aef4",
   "metadata": {},
   "source": [
    "### Tính theo công thức hình thang"
   ]
  },
  {
   "cell_type": "code",
   "execution_count": 4,
   "id": "9ad802cd",
   "metadata": {
    "scrolled": false
   },
   "outputs": [
    {
     "name": "stdout",
     "output_type": "stream",
     "text": [
      "h = 0.1\n",
      "h / 2 = 0.05 \n",
      "\n",
      "     0         1         2         3         4         5      6         7\n",
      "x  1.0  1.100000  1.200000  1.300000  1.400000  1.500000  1.600  1.700000\n",
      "y  1.0  0.909091  0.833333  0.769231  0.714286  0.666667  0.625  0.588235\n",
      "\n",
      "          0         1         2         3         4     5         6         7   \\\n",
      "x(h/2)  1.0  1.050000  1.100000  1.150000  1.200000  1.25  1.300000  1.350000   \n",
      "y(h/2)  1.0  0.952381  0.909091  0.869565  0.833333  0.80  0.769231  0.740741   \n",
      "\n",
      "              8         9         10        11     12        13        14  \n",
      "x(h/2)  1.400000  1.450000  1.500000  1.550000  1.600  1.650000  1.700000  \n",
      "y(h/2)  0.714286  0.689655  0.666667  0.645161  0.625  0.606061  0.588235  \n",
      "\n",
      "Ih = 0.5311725039666215\n",
      "I_h/2 = 0.5307644509488098\n",
      "M2 = 1.0\n",
      "Sai số: 0.0005833333333333334\n",
      "Sai số qua lưới phủ: 0.0001360176726039238\n"
     ]
    }
   ],
   "source": [
    "def f(x): # tự viết\n",
    "    return 1/x\n",
    "\n",
    "def daoham2(x): # tự viết\n",
    "    return -1/x**2\n",
    "\n",
    "x0 = 1\n",
    "xn = 1.7\n",
    "h = 0.1\n",
    "epxilon = 0\n",
    "\n",
    "# Nếu bài toán không yêu cầu tính sai số theo M2 thì không cần sửa hàm daoham2 và đừng để ý đến \"sai số\"\n",
    "# Nếu bài toán yêu cầu tính toán theo một sai số cho trước thì cần sửa daoham2 và epxilon ở trên, còn nếu tự tính tay ra h thì thoy :D\n",
    "Tichphangandung_HT(x0, xn, h, f, daoham2=daoham2, epxilon=epxilon)"
   ]
  },
  {
   "cell_type": "markdown",
   "id": "a4fc5721",
   "metadata": {},
   "source": [
    "### Tính theo công thức Simpson"
   ]
  },
  {
   "cell_type": "code",
   "execution_count": 3,
   "id": "39edf0a3",
   "metadata": {},
   "outputs": [
    {
     "name": "stdout",
     "output_type": "stream",
     "text": [
      "M4 = 1.0\n",
      "h = 0.18398743167093065\n",
      "          0         1         2         3         4\n",
      "x  0.785398  0.981748  1.178097  1.374447  1.570796\n",
      "y  0.707107  0.831470  0.923880  0.980785  1.000000\n",
      "\n",
      "phi1 = 1.8122548927057758\n",
      "phi2 = 0.9238795325112867\n",
      "Ih = 0.6625930433155935\n"
     ]
    }
   ],
   "source": [
    "def f(x):\n",
    "    return np.sin(x)\n",
    "\n",
    "def daoham4(x):\n",
    "    return np.sin(x) # hàm cbrt là hàm căn bậc 3\n",
    "\n",
    "x0 = np.pi/4\n",
    "xn = np.pi/2\n",
    "h = 0.1\n",
    "epxilon = 0.5*10**-5\n",
    "\n",
    "# cách sử dụng tương tự công thức hình thang\n",
    "\n",
    "Simpson(x0, xn, h, f, daoham4=daoham4, epxilon=epxilon)"
   ]
  },
  {
   "cell_type": "markdown",
   "id": "ce8cfde9",
   "metadata": {},
   "source": [
    "# Giải gần đúng phương trình vi phân"
   ]
  },
  {
   "cell_type": "markdown",
   "id": "757b489b",
   "metadata": {},
   "source": [
    "### Euler hiện"
   ]
  },
  {
   "cell_type": "code",
   "execution_count": 7,
   "id": "5598bdf5",
   "metadata": {},
   "outputs": [
    {
     "name": "stdout",
     "output_type": "stream",
     "text": [
      "     x           y             z\n",
      "0  1.0    0.260000      0.650000\n",
      "1  1.2    0.390000      3.150722\n",
      "2  1.4    1.020144     10.267664\n",
      "3  1.6    3.073677     44.070450\n",
      "4  1.8   11.887767    480.646222\n",
      "5  2.0  108.017012  47187.328169\n"
     ]
    }
   ],
   "source": [
    "def f(x, y, z):\n",
    "    return np.array([[z], # tự viết\n",
    "                     [np.log(x*y + 1) + (z + 2.6)**2 + 2.1*x - 0.39]]) # Nếu đề bài cho phương trình vi phân 2 chiều thì cần sửa hàm này, nếu không thì để 0\n",
    "\n",
    "x0 = 1\n",
    "xn = 2\n",
    "h = 0.2\n",
    "w0 = np.array([[0.26], # tự viết\n",
    "               [0.65]]) # tự viết\n",
    "\n",
    "Euler_hien(x0, xn, h, w0, f)"
   ]
  },
  {
   "cell_type": "markdown",
   "id": "7cf77096",
   "metadata": {},
   "source": [
    "### Euler ẩn"
   ]
  },
  {
   "cell_type": "code",
   "execution_count": 23,
   "id": "dffbe4ac",
   "metadata": {
    "collapsed": true
   },
   "outputs": [
    {
     "name": "stdout",
     "output_type": "stream",
     "text": [
      "      x         y         u\n",
      "0   1.0  1.000000  1.100000\n",
      "1   1.1  1.110000  1.221000\n",
      "2   1.2  1.232100  1.355310\n",
      "3   1.3  1.367631  1.504394\n",
      "4   1.4  1.518070  1.669877\n",
      "5   1.5  1.685058  1.853564\n",
      "6   1.6  1.870415  2.057456\n",
      "7   1.7  2.076160  2.283776\n",
      "8   1.8  2.304538  2.534992\n",
      "9   1.9  2.558037  2.813841\n",
      "10  2.0  2.839421  3.123363\n"
     ]
    }
   ],
   "source": [
    "def f(x, y): #tự viết\n",
    "    return x*y/x\n",
    "\n",
    "x0 = 1\n",
    "xn = 2\n",
    "h = 0.1\n",
    "y0 = 1\n",
    "    \n",
    "Euler_an(x0, xn, h, y0, f)"
   ]
  },
  {
   "cell_type": "markdown",
   "id": "148089bb",
   "metadata": {},
   "source": [
    "### Euler cải tiến"
   ]
  },
  {
   "cell_type": "code",
   "execution_count": 6,
   "id": "36ade276",
   "metadata": {},
   "outputs": [
    {
     "name": "stdout",
     "output_type": "stream",
     "text": [
      "     x         y         u\n",
      "0  0.0  1.000000  1.100000\n",
      "1  0.1  1.110784  1.233545\n",
      "2  0.2  1.247497  1.399867\n",
      "3  0.3  1.418163  1.609596\n",
      "4  0.4  1.633941  1.877697\n",
      "5  0.5  1.910609  2.225615\n",
      "6  0.6  2.270879  2.684660\n",
      "7  0.7  2.748081  3.301477\n",
      "8  0.8  3.392158  4.147096\n"
     ]
    }
   ],
   "source": [
    "def f(x, y):\n",
    "    return np.exp(x)*y\n",
    "    \n",
    "x0 = 0\n",
    "xn = 0.8\n",
    "h = 0.1\n",
    "y0 = 1\n",
    "\n",
    "Euler_caitien(x0, xn, h, y0, f)"
   ]
  },
  {
   "cell_type": "markdown",
   "id": "c0fe041e",
   "metadata": {},
   "source": [
    "### R-K 4"
   ]
  },
  {
   "cell_type": "code",
   "execution_count": 2,
   "id": "fae6ea1d",
   "metadata": {},
   "outputs": [
    {
     "name": "stdout",
     "output_type": "stream",
     "text": [
      "      x             y    z             k1   l1             k2   l2  \\\n",
      "0   1.0  1.000000e+00  0.0   1.000000e-01  0.0   1.157625e-01  0.0   \n",
      "1   1.1  1.117318e+00  0.0   1.373240e-01  0.0   1.617531e-01  0.0   \n",
      "2   1.2  1.282049e+00  0.0   1.972380e-01  0.0   2.382806e-01  0.0   \n",
      "3   1.3  1.526706e+00  0.0   3.030082e-01  0.0   3.802127e-01  0.0   \n",
      "4   1.4  1.923010e+00  0.0   5.177154e-01  0.0   6.902793e-01  0.0   \n",
      "5   1.5  2.666124e+00  0.0   1.066233e+00  0.0   1.586446e+00  0.0   \n",
      "6   1.6  4.536001e+00  0.0   3.292049e+00  0.0   6.305878e+00  0.0   \n",
      "7   1.7  1.622463e+01  0.0   4.475056e+01  0.0   2.607418e+02  0.0   \n",
      "8   1.8  4.293403e+05  0.0   3.317995e+10  0.0   5.091969e+19  0.0   \n",
      "9   1.9  4.553748e+74  0.0  3.939958e+148  0.0  7.567593e+295  0.0   \n",
      "10  2.0           inf  0.0            inf  0.0            inf  0.0   \n",
      "\n",
      "              k3   l3            k4   l4  \n",
      "0   1.175068e-01  0.0  1.373704e-01  0.0  \n",
      "1   1.651021e-01  0.0  1.973522e-01  0.0  \n",
      "2   2.454165e-01  0.0  3.033097e-01  0.0  \n",
      "3   3.979052e-01  0.0  5.185781e-01  0.0  \n",
      "4   7.459529e-01  0.0  1.068504e+00  0.0  \n",
      "5   1.854898e+00  0.0  3.270342e+00  0.0  \n",
      "6   9.754767e+00  0.0  3.471843e+01  0.0  \n",
      "7   3.760794e+03  0.0  2.567857e+06  0.0  \n",
      "8   1.199177e+38  0.0  2.732249e+75  0.0  \n",
      "9            inf  0.0           inf  0.0  \n",
      "10           inf  0.0           inf  0.0  \n"
     ]
    },
    {
     "name": "stderr",
     "output_type": "stream",
     "text": [
      "C:\\Users\\DELL\\AppData\\Local\\Temp/ipykernel_13180/841832270.py:2: RuntimeWarning: overflow encountered in double_scalars\n",
      "  return x*y**2\n"
     ]
    }
   ],
   "source": [
    "def f(x, y, z): # tự viết\n",
    "    return x*y**2 \n",
    "\n",
    "def g(x, y, z): # Nếu đề bài cho phương trình vi phân 1 chiều thì return 0\n",
    "    return 0\n",
    "\n",
    "x0 = 1\n",
    "xn = 2\n",
    "h = 0.1\n",
    "y0 = 1\n",
    "z0 = 0\n",
    "\n",
    "RK_4(x0, xn, h, y0, z0, f, g)"
   ]
  }
 ],
 "metadata": {
  "kernelspec": {
   "display_name": "Python 3 (ipykernel)",
   "language": "python",
   "name": "python3"
  },
  "language_info": {
   "codemirror_mode": {
    "name": "ipython",
    "version": 3
   },
   "file_extension": ".py",
   "mimetype": "text/x-python",
   "name": "python",
   "nbconvert_exporter": "python",
   "pygments_lexer": "ipython3",
   "version": "3.8.0"
  }
 },
 "nbformat": 4,
 "nbformat_minor": 5
}
